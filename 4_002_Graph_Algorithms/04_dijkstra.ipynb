{
 "cells": [
  {
   "cell_type": "markdown",
   "metadata": {
    "graffitiCellId": "id_0ojz955"
   },
   "source": [
    "# Dijkstra's Algorithm\n",
    "In this exercise, you'll implement Dijkstra's algorithm. First, let's build the graph.\n",
    "## Graph Representation\n",
    "In order to run Dijkstra's Algorithm, we'll need to add distance to each edge. We'll use the `GraphEdge` class below to represent each edge between a node."
   ]
  },
  {
   "cell_type": "code",
   "execution_count": 2,
   "metadata": {
    "graffitiCellId": "id_popacit"
   },
   "outputs": [],
   "source": [
    "class GraphEdge(object):\n",
    "    def __init__(self, node, distance):\n",
    "        self.node = node\n",
    "        self.distance = distance"
   ]
  },
  {
   "cell_type": "markdown",
   "metadata": {
    "graffitiCellId": "id_ljgv5p0"
   },
   "source": [
    "The new graph representation should look like this:"
   ]
  },
  {
   "cell_type": "code",
   "execution_count": 3,
   "metadata": {
    "graffitiCellId": "id_llarxxs"
   },
   "outputs": [],
   "source": [
    "class GraphNode(object):\n",
    "    def __init__(self, val):\n",
    "        self.value = val\n",
    "        self.edges = []\n",
    "\n",
    "    def add_child(self, node, distance):\n",
    "        self.edges.append(GraphEdge(node, distance))\n",
    "\n",
    "    def remove_child(self, del_node):\n",
    "        if del_node in self.edges:\n",
    "            self.edges.remove(del_node)\n",
    "\n",
    "class Graph(object):\n",
    "    def __init__(self, node_list):\n",
    "        self.nodes = node_list\n",
    "\n",
    "    def add_edge(self, node1, node2, distance):\n",
    "        if node1 in self.nodes and node2 in self.nodes:\n",
    "            node1.add_child(node2, distance)\n",
    "            #node2.add_child(node1, distance)\n",
    "\n",
    "    def remove_edge(self, node1, node2):\n",
    "        if node1 in self.nodes and node2 in self.nodes:\n",
    "            node1.remove_child(node2)\n",
    "            node2.remove_child(node1)"
   ]
  },
  {
   "cell_type": "markdown",
   "metadata": {
    "graffitiCellId": "id_2m0r1p6"
   },
   "source": [
    "Now let's create the graph."
   ]
  },
  {
   "cell_type": "code",
   "execution_count": 4,
   "metadata": {
    "graffitiCellId": "id_9zgbdrn"
   },
   "outputs": [
    {
     "name": "stdout",
     "output_type": "stream",
     "text": [
      "parent node =  U\n",
      "children (node,distance)\n",
      "(A,4) (C,6) (D,3) \n",
      "\n",
      "parent node =  D\n",
      "children (node,distance)\n",
      "(U,3) (C,4) \n",
      "\n",
      "parent node =  A\n",
      "children (node,distance)\n",
      "(U,4) (I,7) \n",
      "\n",
      "parent node =  C\n",
      "children (node,distance)\n",
      "(D,4) (U,6) (I,4) (T,5) \n",
      "\n",
      "parent node =  I\n",
      "children (node,distance)\n",
      "(A,7) (C,4) (Y,4) \n",
      "\n",
      "parent node =  T\n",
      "children (node,distance)\n",
      "(C,5) (Y,5) \n",
      "\n",
      "parent node =  Y\n",
      "children (node,distance)\n",
      "(I,4) (T,5) \n",
      "\n"
     ]
    }
   ],
   "source": [
    "node_u = GraphNode('U')\n",
    "node_d = GraphNode('D')\n",
    "node_a = GraphNode('A')\n",
    "node_c = GraphNode('C')\n",
    "node_i = GraphNode('I')\n",
    "node_t = GraphNode('T')\n",
    "node_y = GraphNode('Y')\n",
    "\n",
    "graph = Graph([node_u, node_d, node_a, node_c, node_i, node_t, node_y])\n",
    "graph.add_edge(node_u, node_a, 4) # u -> a\n",
    "graph.add_edge(node_u, node_c, 6) # u -> c\n",
    "graph.add_edge(node_u, node_d, 3) # u -> d\n",
    "graph.add_edge(node_d, node_u, 3) # d -> u\n",
    "graph.add_edge(node_d, node_c, 4) # d -> c\n",
    "graph.add_edge(node_a, node_u, 4) # a -> u\n",
    "graph.add_edge(node_a, node_i, 7) # a -> i\n",
    "graph.add_edge(node_c, node_d, 4) # c -> d\n",
    "graph.add_edge(node_c, node_u, 6) # c -> u\n",
    "graph.add_edge(node_c, node_i, 4) # c -> i\n",
    "graph.add_edge(node_c, node_t, 5) # c -> t\n",
    "graph.add_edge(node_i, node_a, 7) # i -> a\n",
    "graph.add_edge(node_i, node_c, 4) # i -> c\n",
    "graph.add_edge(node_i, node_y, 4) # i -> y\n",
    "graph.add_edge(node_t, node_c, 5) # t -> c\n",
    "graph.add_edge(node_t, node_y, 5) # t -> y\n",
    "graph.add_edge(node_y, node_i, 4) # y -> i\n",
    "graph.add_edge(node_y, node_t, 5) # y -> t\n",
    "\n",
    "# To verify that the graph is created accurately.\n",
    "# Let's just print all the parent nodes and child nodes.\n",
    "for each in graph.nodes:\n",
    "    print('parent node = ',each.value,end='\\nchildren (node,distance)\\n')\n",
    "    for edge in each.edges:\n",
    "        print('({},{})'.format(edge.node.value,edge.distance),end=' ')\n",
    "    print('\\n')"
   ]
  },
  {
   "cell_type": "markdown",
   "metadata": {
    "graffitiCellId": "id_v79ttrc"
   },
   "source": [
    "## Implementation\n",
    "Using what you've learned, implement Dijkstra's Algorithm to find the shortest distance from the \"U\" node to the \"Y\" node. "
   ]
  },
  {
   "cell_type": "code",
   "execution_count": null,
   "metadata": {
    "graffitiCellId": "id_zx9fvl9"
   },
   "outputs": [],
   "source": [
    "import math\n",
    "\n",
    "def dijkstra(start_node, end_node):\n",
    "    pass\n",
    "\n",
    "\n",
    "print('Shortest Distance from {} to {} is {}'.format(node_u.value, node_y.value, dijkstra(node_u, node_y)))"
   ]
  },
  {
   "cell_type": "markdown",
   "metadata": {
    "graffitiCellId": "id_6vmf0hp"
   },
   "source": [
    "<span class=\"graffiti-highlight graffiti-id_6vmf0hp-id_cjtybve\"><i></i><button>Hide Solution</button></span>"
   ]
  },
  {
   "cell_type": "code",
   "execution_count": 13,
   "metadata": {
    "graffitiCellId": "id_cjtybve"
   },
   "outputs": [
    {
     "name": "stdout",
     "output_type": "stream",
     "text": [
      "U : 0    D : inf    A : inf    C : inf    I : inf    T : inf    Y : inf    \n",
      "\n",
      "U : 0    \n",
      "\n",
      "U: (A,4) (C,6) (D,3) \n",
      "\n",
      "----------------------------\n",
      "D : 3    A : 4    C : 6    I : inf    T : inf    Y : inf    \n",
      "\n",
      "U : 0    D : 3    \n",
      "\n",
      "D: (U,3) (C,4) \n",
      "\n",
      "----------------------------\n",
      "A : 4    C : 6    I : inf    T : inf    Y : inf    \n",
      "\n",
      "U : 0    D : 3    A : 4    \n",
      "\n",
      "A: (U,4) (I,7) \n",
      "\n",
      "----------------------------\n",
      "C : 6    I : 11    T : inf    Y : inf    \n",
      "\n",
      "U : 0    D : 3    A : 4    C : 6    \n",
      "\n",
      "C: (D,4) (U,6) (I,4) (T,5) \n",
      "\n",
      "----------------------------\n",
      "I : 10    T : 11    Y : inf    \n",
      "\n",
      "U : 0    D : 3    A : 4    C : 6    I : 10    \n",
      "\n",
      "I: (A,7) (C,4) (Y,4) \n",
      "\n",
      "----------------------------\n",
      "T : 11    Y : 14    \n",
      "\n",
      "U : 0    D : 3    A : 4    C : 6    I : 10    T : 11    \n",
      "\n",
      "T: (C,5) (Y,5) \n",
      "\n",
      "----------------------------\n",
      "Y : 14    \n",
      "\n",
      "U : 0    D : 3    A : 4    C : 6    I : 10    T : 11    Y : 14    \n",
      "\n",
      "Y: (I,4) (T,5) \n",
      "\n",
      "----------------------------\n",
      "Shortest Distance from U to Y is 14\n"
     ]
    }
   ],
   "source": [
    "import math\n",
    "\n",
    "def print_dict(d):\n",
    "    \n",
    "    for key,value in d.items():\n",
    "        print ('{} : {}'.format(key.value,value), end=\"    \")\n",
    "    print(\"\\n\")\n",
    "\n",
    "def dijkstra(start_node, end_node):\n",
    "    # initialize single source distances\n",
    "    distance_dict = {node: math.inf for node in graph.nodes}\n",
    "    shortest_path_to_node = {}\n",
    "    \n",
    "    # the starting node has distance zero start_node -> start_node distance: 0\n",
    "    distance_dict[start_node] = 0\n",
    "    \n",
    "    while distance_dict:\n",
    "        # Pop the shorest path\n",
    "        # sort the items of the distance_dict, i.e x = (node, distance), based on the value key (x[1]: distance)\n",
    "        # as applied to each element (x) of the list and retrieve the first element of the sorted list\n",
    "        # current_node is the node with the shortest path from the start_node\n",
    "        current_node, node_distance = sorted(distance_dict.items(), key=lambda x: x[1])[0]\n",
    "        print_dict(distance_dict)\n",
    "        # update the shortest path distance to the current node and remove the node from the dictionary\n",
    "        shortest_path_to_node[current_node] = distance_dict.pop(current_node)\n",
    "        print_dict(shortest_path_to_node)\n",
    "        \n",
    "        print(current_node.value, end=': ')\n",
    "        for edge in current_node.edges:\n",
    "            print('({},{})'.format(edge.node.value,edge.distance),end=' ')\n",
    "        print('\\n')\n",
    "        \n",
    "        for edge in current_node.edges:\n",
    "            # if the node has not been visited then compute and update distance\n",
    "            if edge.node in distance_dict:\n",
    "                new_node_distance = node_distance + edge.distance\n",
    "                if distance_dict[edge.node] > new_node_distance:\n",
    "                    distance_dict[edge.node] = new_node_distance\n",
    "        print(\"----------------------------\")\n",
    "    \n",
    "    return shortest_path_to_node[end_node]\n",
    "\n",
    "print('Shortest Distance from {} to {} is {}'.format(node_u.value, node_y.value, dijkstra(node_u, node_y)))"
   ]
  },
  {
   "cell_type": "code",
   "execution_count": null,
   "metadata": {
    "graffitiCellId": "id_nc6ltc5"
   },
   "outputs": [],
   "source": []
  }
 ],
 "metadata": {
  "graffiti": {
   "firstAuthorId": "dev",
   "id": "id_xw4if85",
   "language": "EN"
  },
  "kernelspec": {
   "display_name": "Python 3",
   "language": "python",
   "name": "python3"
  },
  "language_info": {
   "codemirror_mode": {
    "name": "ipython",
    "version": 3
   },
   "file_extension": ".py",
   "mimetype": "text/x-python",
   "name": "python",
   "nbconvert_exporter": "python",
   "pygments_lexer": "ipython3",
   "version": "3.6.3"
  }
 },
 "nbformat": 4,
 "nbformat_minor": 2
}
