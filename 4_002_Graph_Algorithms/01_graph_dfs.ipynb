{
 "cells": [
  {
   "cell_type": "markdown",
   "metadata": {
    "graffitiCellId": "id_m8owu67"
   },
   "source": [
    "# Graph Depth First Search\n",
    "In this exercise, you'll see how to do a depth first search on a graph. To start, let's create a graph class in Python."
   ]
  },
  {
   "cell_type": "code",
   "execution_count": 1,
   "metadata": {
    "graffitiCellId": "id_ahrjg5m"
   },
   "outputs": [],
   "source": [
    "class GraphNode(object):\n",
    "    def __init__(self, val):\n",
    "        self.value = val\n",
    "        self.children = []\n",
    "        \n",
    "    def add_child(self,new_node):\n",
    "        self.children.append(new_node)\n",
    "    \n",
    "    def remove_child(self,del_node):\n",
    "        if del_node in self.children:\n",
    "            self.children.remove(del_node)\n",
    "\n",
    "class Graph(object):\n",
    "    def __init__(self,node_list):\n",
    "        self.nodes = node_list\n",
    "        \n",
    "    def add_edge(self,node1,node2):\n",
    "        if(node1 in self.nodes and node2 in self.nodes):\n",
    "            node1.add_child(node2)\n",
    "            node2.add_child(node1)\n",
    "            \n",
    "    def remove_edge(self,node1,node2):\n",
    "        if(node1 in self.nodes and node2 in self.nodes):\n",
    "            node1.remove_child(node2)\n",
    "            node2.remove_child(node1)"
   ]
  },
  {
   "cell_type": "markdown",
   "metadata": {
    "graffitiCellId": "id_1gmwlh4"
   },
   "source": [
    "Now let's create the graph."
   ]
  },
  {
   "cell_type": "code",
   "execution_count": 26,
   "metadata": {
    "graffitiCellId": "id_7t1mjv6"
   },
   "outputs": [
    {
     "name": "stdout",
     "output_type": "stream",
     "text": [
      "G: R -> A -> H\n",
      "R: G -> A -> P -> S\n",
      "A: R -> G\n",
      "P: R -> H\n",
      "H: G -> P\n",
      "S: R\n"
     ]
    }
   ],
   "source": [
    "nodeG = GraphNode('G')\n",
    "nodeR = GraphNode('R')\n",
    "nodeA = GraphNode('A')\n",
    "nodeP = GraphNode('P')\n",
    "nodeH = GraphNode('H')\n",
    "nodeS = GraphNode('S')\n",
    "\n",
    "graph1 = Graph([nodeS,nodeH,nodeG,nodeP,nodeR,nodeA] ) \n",
    "graph1.add_edge(nodeG,nodeR)\n",
    "graph1.add_edge(nodeA,nodeR)\n",
    "graph1.add_edge(nodeA,nodeG)\n",
    "graph1.add_edge(nodeR,nodeP)\n",
    "graph1.add_edge(nodeH,nodeG)\n",
    "graph1.add_edge(nodeH,nodeP)\n",
    "graph1.add_edge(nodeS,nodeR)\n",
    "\n",
    "# adjacent list \n",
    "# l = len(nodeG.children)\n",
    "# for i in range(0, l):\n",
    "#     print(nodeG.children[i].value)\n",
    "print('G: {} -> {} -> {}'.format(nodeG.children[0].value,nodeG.children[1].value,nodeG.children[2].value))\n",
    "print('R: {} -> {} -> {} -> {}'.format(nodeR.children[0].value,nodeR.children[1].value,nodeR.children[2].value,nodeR.children[3].value))\n",
    "print('A: {} -> {}'.format(nodeA.children[0].value,nodeA.children[1].value))\n",
    "print('P: {} -> {}'.format(nodeP.children[0].value,nodeP.children[1].value))\n",
    "print('H: {} -> {}'.format(nodeH.children[0].value,nodeH.children[1].value))\n",
    "print('S: {}'.format(nodeS.children[0].value))"
   ]
  },
  {
   "cell_type": "markdown",
   "metadata": {
    "graffitiCellId": "id_8vfpmgw"
   },
   "source": [
    "## Implement DFS\n",
    "Using what you know about DFS for trees, apply this to graphs. Implement the `dfs_search` to return the `GraphNode` with the value `search_value` starting at the `root_node`."
   ]
  },
  {
   "cell_type": "code",
   "execution_count": null,
   "metadata": {
    "graffitiCellId": "id_k6nhmo1"
   },
   "outputs": [],
   "source": [
    "def dfs_search(root_node, search_value):\n",
    "    pass"
   ]
  },
  {
   "cell_type": "markdown",
   "metadata": {
    "graffitiCellId": "id_flg9zjy"
   },
   "source": [
    "<span class=\"graffiti-highlight graffiti-id_flg9zjy-id_4sn6eaw\"><i></i><button>Hide Solution</button></span>"
   ]
  },
  {
   "cell_type": "code",
   "execution_count": 24,
   "metadata": {
    "graffitiCellId": "id_4sn6eaw"
   },
   "outputs": [],
   "source": [
    "def dfs_search(root_node, search_value):\n",
    "    visited = []\n",
    "    stack = [root_node]\n",
    "    \n",
    "    while len(stack) > 0:\n",
    "        current_node = stack.pop()\n",
    "        visited.append(current_node)\n",
    "        \n",
    "        print('Visited: [', end =\" \")\n",
    "        for i in range(0,len(visited)):\n",
    "            print(visited[i].value, end = \",\")\n",
    "        print(']')\n",
    "        \n",
    "        if current_node.value == search_value:\n",
    "            return current_node\n",
    "\n",
    "        for child in current_node.children:\n",
    "            if child not in visited and child not in stack:\n",
    "                stack.append(child)\n",
    "        \n",
    "        print('Stack:   [', end =\" \")\n",
    "        for i in range(0,len(stack)):\n",
    "            print(stack[i].value, end = \",\")\n",
    "        print(']')"
   ]
  },
  {
   "cell_type": "markdown",
   "metadata": {
    "graffitiCellId": "id_0aafts6"
   },
   "source": [
    "### Tests"
   ]
  },
  {
   "cell_type": "code",
   "execution_count": 27,
   "metadata": {
    "graffitiCellId": "id_3k4dgr7"
   },
   "outputs": [
    {
     "name": "stdout",
     "output_type": "stream",
     "text": [
      "Visited: [ S,]\n",
      "Stack:   [ R,]\n",
      "Visited: [ S,R,]\n",
      "Stack:   [ G,A,P,]\n",
      "Visited: [ S,R,P,]\n",
      "Stack:   [ G,A,H,]\n",
      "Visited: [ S,R,P,H,]\n",
      "Stack:   [ G,A,]\n",
      "Visited: [ S,R,P,H,A,]\n",
      "STOP\n",
      "Visited: [ P,]\n",
      "Stack:   [ R,H,]\n",
      "Visited: [ P,H,]\n",
      "Stack:   [ R,G,]\n",
      "Visited: [ P,H,G,]\n",
      "Stack:   [ R,A,]\n",
      "Visited: [ P,H,G,A,]\n",
      "Stack:   [ R,]\n",
      "Visited: [ P,H,G,A,R,]\n",
      "Stack:   [ S,]\n",
      "Visited: [ P,H,G,A,R,S,]\n",
      "STOP\n",
      "Visited: [ H,]\n",
      "Stack:   [ G,P,]\n",
      "Visited: [ H,P,]\n",
      "Stack:   [ G,R,]\n",
      "Visited: [ H,P,R,]\n"
     ]
    }
   ],
   "source": [
    "assert nodeA == dfs_search(nodeS, 'A')\n",
    "print('STOP')\n",
    "assert nodeS == dfs_search(nodeP, 'S')\n",
    "print('STOP')\n",
    "assert nodeR == dfs_search(nodeH, 'R')"
   ]
  },
  {
   "cell_type": "code",
   "execution_count": null,
   "metadata": {
    "graffitiCellId": "id_k15xfge"
   },
   "outputs": [],
   "source": []
  }
 ],
 "metadata": {
  "graffiti": {
   "firstAuthorId": "10694620118",
   "id": "id_9f31yr7",
   "language": "EN"
  },
  "kernelspec": {
   "display_name": "Python 3",
   "language": "python",
   "name": "python3"
  },
  "language_info": {
   "codemirror_mode": {
    "name": "ipython",
    "version": 3
   },
   "file_extension": ".py",
   "mimetype": "text/x-python",
   "name": "python",
   "nbconvert_exporter": "python",
   "pygments_lexer": "ipython3",
   "version": "3.6.3"
  }
 },
 "nbformat": 4,
 "nbformat_minor": 2
}
