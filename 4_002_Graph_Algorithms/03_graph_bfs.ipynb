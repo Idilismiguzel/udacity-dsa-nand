{
 "cells": [
  {
   "cell_type": "markdown",
   "metadata": {
    "graffitiCellId": "id_19cls48"
   },
   "source": [
    "# Graph Breadth First Search\n",
    "In this exercise, you'll see how to do a breadth first search on a graph. To start, let's create a graph class in Python."
   ]
  },
  {
   "cell_type": "code",
   "execution_count": 1,
   "metadata": {
    "graffitiCellId": "id_pmkelaq"
   },
   "outputs": [],
   "source": [
    "class GraphNode(object):\n",
    "    def __init__(self, val):\n",
    "        self.value = val\n",
    "        self.children = []\n",
    "        \n",
    "    def add_child(self,new_node):\n",
    "        self.children.append(new_node)\n",
    "    \n",
    "    def remove_child(self,del_node):\n",
    "        if del_node in self.children:\n",
    "            self.children.remove(del_node)\n",
    "\n",
    "class Graph(object):\n",
    "    def __init__(self,node_list):\n",
    "        self.nodes = node_list\n",
    "        \n",
    "    def add_edge(self,node1,node2):\n",
    "        if(node1 in self.nodes and node2 in self.nodes):\n",
    "            node1.add_child(node2)\n",
    "            node2.add_child(node1)\n",
    "            \n",
    "    def remove_edge(self,node1,node2):\n",
    "        if(node1 in self.nodes and node2 in self.nodes):\n",
    "            node1.remove_child(node2)\n",
    "            node2.remove_child(node1)"
   ]
  },
  {
   "cell_type": "markdown",
   "metadata": {
    "graffitiCellId": "id_dk66y5p"
   },
   "source": [
    "Now let's create the graph."
   ]
  },
  {
   "cell_type": "code",
   "execution_count": 2,
   "metadata": {
    "graffitiCellId": "id_4twme6x"
   },
   "outputs": [
    {
     "name": "stdout",
     "output_type": "stream",
     "text": [
      "G: R -> A -> H\n",
      "R: G -> A -> P -> S\n",
      "A: R -> G\n",
      "P: R -> H\n",
      "H: G -> P\n",
      "S: R\n",
      "parent node =  S\n",
      "children\n",
      "R \n",
      "\n",
      "parent node =  H\n",
      "children\n",
      "G P \n",
      "\n",
      "parent node =  G\n",
      "children\n",
      "R A H \n",
      "\n",
      "parent node =  P\n",
      "children\n",
      "R H \n",
      "\n",
      "parent node =  R\n",
      "children\n",
      "G A P S \n",
      "\n",
      "parent node =  A\n",
      "children\n",
      "R G \n",
      "\n"
     ]
    }
   ],
   "source": [
    "nodeG = GraphNode('G')\n",
    "nodeR = GraphNode('R')\n",
    "nodeA = GraphNode('A')\n",
    "nodeP = GraphNode('P')\n",
    "nodeH = GraphNode('H')\n",
    "nodeS = GraphNode('S')\n",
    "\n",
    "graph1 = Graph([nodeS,nodeH,nodeG,nodeP,nodeR,nodeA] ) \n",
    "graph1.add_edge(nodeG,nodeR)\n",
    "graph1.add_edge(nodeA,nodeR)\n",
    "graph1.add_edge(nodeA,nodeG)\n",
    "graph1.add_edge(nodeR,nodeP)\n",
    "graph1.add_edge(nodeH,nodeG)\n",
    "graph1.add_edge(nodeH,nodeP)\n",
    "graph1.add_edge(nodeS,nodeR)\n",
    "\n",
    "print('G: {} -> {} -> {}'.format(nodeG.children[0].value,nodeG.children[1].value,nodeG.children[2].value))\n",
    "print('R: {} -> {} -> {} -> {}'.format(nodeR.children[0].value,nodeR.children[1].value,nodeR.children[2].value,nodeR.children[3].value))\n",
    "print('A: {} -> {}'.format(nodeA.children[0].value,nodeA.children[1].value))\n",
    "print('P: {} -> {}'.format(nodeP.children[0].value,nodeP.children[1].value))\n",
    "print('H: {} -> {}'.format(nodeH.children[0].value,nodeH.children[1].value))\n",
    "print('S: {}'.format(nodeS.children[0].value))\n",
    "\n",
    "# To verify that the graph is created accurately.\n",
    "# Let's just print all the parent nodes and child nodes.\n",
    "for each in graph1.nodes:\n",
    "    print('parent node = ',each.value,end='\\nchildren\\n')\n",
    "    for each in each.children:\n",
    "        print(each.value,end=' ')\n",
    "    print('\\n')"
   ]
  },
  {
   "cell_type": "markdown",
   "metadata": {
    "graffitiCellId": "id_iplss81"
   },
   "source": [
    "## Implement BFS\n",
    "Using what you know about BFS for trees and DFS for graphs, let's do BFS for graphs. Implement the `bfs_search` to return the `GraphNode` with the value `search_value` starting at the `root_node`."
   ]
  },
  {
   "cell_type": "code",
   "execution_count": null,
   "metadata": {
    "graffitiCellId": "id_1vk7aeh"
   },
   "outputs": [],
   "source": [
    "def bfs_search(root_node, search_value):\n",
    "    pass"
   ]
  },
  {
   "cell_type": "markdown",
   "metadata": {
    "graffitiCellId": "id_fg1wpq1"
   },
   "source": [
    "<span class=\"graffiti-highlight graffiti-id_fg1wpq1-id_g7fi7m5\"><i></i><button>Hide Solution</button></span>"
   ]
  },
  {
   "cell_type": "code",
   "execution_count": 21,
   "metadata": {
    "graffitiCellId": "id_g7fi7m5"
   },
   "outputs": [],
   "source": [
    "def bfs_search(root_node, search_value):\n",
    "    visited = []\n",
    "    queue = [root_node]\n",
    "    \n",
    "    visited.append(root_node)\n",
    "    print('bfs_search({}, {})'.format(root_node.value,search_value))\n",
    "    print('Queue: [{}]'.format(queue[0].value))\n",
    "    print('Visited: [{}]'.format(visited[0].value))\n",
    "    \n",
    "    iteration = 0\n",
    "    \n",
    "    while len(queue) > 0 and iteration <= 15:\n",
    "        # FIFO: we remove the first element we inserted in the list\n",
    "        current_node = queue.pop(0)\n",
    "        \n",
    "        \n",
    "        print('\\t ---- iteration: {}'.format(iteration))\n",
    "        \n",
    "        print('Queue: [', end =\"\")\n",
    "        for i in range(0,len(queue)):\n",
    "            if i < len(queue) - 1:\n",
    "                print(queue[i].value, end = \", \")\n",
    "            else:\n",
    "                print(queue[i].value, end = \"\")\n",
    "        print(']')\n",
    "        \n",
    "        \n",
    "        print('current_node: {}'.format(current_node.value))\n",
    "\n",
    "        if current_node.value == search_value:\n",
    "            return current_node\n",
    "\n",
    "        for child in current_node.children:\n",
    "            if child not in visited:\n",
    "                queue.append(child)\n",
    "                visited.append(child)\n",
    "                \n",
    "        print('Queue: [', end =\"\")\n",
    "        for i in range(0,len(queue)):\n",
    "            if i < len(queue) - 1:\n",
    "                print(queue[i].value, end = \", \")\n",
    "            else:\n",
    "                print(queue[i].value, end = \"\")\n",
    "        print(']')\n",
    "                \n",
    "        iteration += 1\n",
    "        \n",
    "        print('Visited: [', end =\"\")\n",
    "        for i in range(0,len(visited)):\n",
    "            if i < len(visited) - 1:\n",
    "                print(visited[i].value, end = \", \")\n",
    "            else:\n",
    "                print(visited[i].value, end = \"\")\n",
    "        print(']')\n",
    "    \n",
    "    return None"
   ]
  },
  {
   "cell_type": "markdown",
   "metadata": {
    "graffitiCellId": "id_ej37296"
   },
   "source": [
    "### Tests"
   ]
  },
  {
   "cell_type": "code",
   "execution_count": 24,
   "metadata": {
    "graffitiCellId": "id_ajsx9hw"
   },
   "outputs": [
    {
     "name": "stdout",
     "output_type": "stream",
     "text": [
      "bfs_search(S, A)\n",
      "Queue: [S]\n",
      "Visited: [S]\n",
      "\t ---- iteration: 0\n",
      "Queue: []\n",
      "current_node: S\n",
      "Queue: [R]\n",
      "Visited: [S, R]\n",
      "\t ---- iteration: 1\n",
      "Queue: []\n",
      "current_node: R\n",
      "Queue: [G, A, P]\n",
      "Visited: [S, R, G, A, P]\n",
      "\t ---- iteration: 2\n",
      "Queue: [A, P]\n",
      "current_node: G\n",
      "Queue: [A, P, H]\n",
      "Visited: [S, R, G, A, P, H]\n",
      "\t ---- iteration: 3\n",
      "Queue: [P, H]\n",
      "current_node: A\n",
      "-----------------------------\n",
      "bfs_search(P, S)\n",
      "Queue: [P]\n",
      "Visited: [P]\n",
      "\t ---- iteration: 0\n",
      "Queue: []\n",
      "current_node: P\n",
      "Queue: [R, H]\n",
      "Visited: [P, R, H]\n",
      "\t ---- iteration: 1\n",
      "Queue: [H]\n",
      "current_node: R\n",
      "Queue: [H, G, A, S]\n",
      "Visited: [P, R, H, G, A, S]\n",
      "\t ---- iteration: 2\n",
      "Queue: [G, A, S]\n",
      "current_node: H\n",
      "Queue: [G, A, S]\n",
      "Visited: [P, R, H, G, A, S]\n",
      "\t ---- iteration: 3\n",
      "Queue: [A, S]\n",
      "current_node: G\n",
      "Queue: [A, S]\n",
      "Visited: [P, R, H, G, A, S]\n",
      "\t ---- iteration: 4\n",
      "Queue: [S]\n",
      "current_node: A\n",
      "Queue: [S]\n",
      "Visited: [P, R, H, G, A, S]\n",
      "\t ---- iteration: 5\n",
      "Queue: []\n",
      "current_node: S\n",
      "-----------------------------\n",
      "bfs_search(H, W)\n",
      "Queue: [H]\n",
      "Visited: [H]\n",
      "\t ---- iteration: 0\n",
      "Queue: []\n",
      "current_node: H\n",
      "Queue: [G, P]\n",
      "Visited: [H, G, P]\n",
      "\t ---- iteration: 1\n",
      "Queue: [P]\n",
      "current_node: G\n",
      "Queue: [P, R, A]\n",
      "Visited: [H, G, P, R, A]\n",
      "\t ---- iteration: 2\n",
      "Queue: [R, A]\n",
      "current_node: P\n",
      "Queue: [R, A]\n",
      "Visited: [H, G, P, R, A]\n",
      "\t ---- iteration: 3\n",
      "Queue: [A]\n",
      "current_node: R\n",
      "Queue: [A, S]\n",
      "Visited: [H, G, P, R, A, S]\n",
      "\t ---- iteration: 4\n",
      "Queue: [S]\n",
      "current_node: A\n",
      "Queue: [S]\n",
      "Visited: [H, G, P, R, A, S]\n",
      "\t ---- iteration: 5\n",
      "Queue: []\n",
      "current_node: S\n",
      "Queue: []\n",
      "Visited: [H, G, P, R, A, S]\n"
     ]
    }
   ],
   "source": [
    "assert nodeA == bfs_search(nodeS, 'A')\n",
    "print('-----------------------------')\n",
    "assert nodeS == bfs_search(nodeP, 'S')\n",
    "print('-----------------------------')\n",
    "# assert nodeR == bfs_search(nodeH, 'R')\n",
    "# print('-----------------------------')\n",
    "assert None == bfs_search(nodeH, 'W')"
   ]
  },
  {
   "cell_type": "code",
   "execution_count": null,
   "metadata": {
    "graffitiCellId": "id_o870nak"
   },
   "outputs": [],
   "source": []
  }
 ],
 "metadata": {
  "graffiti": {
   "firstAuthorId": "dev",
   "id": "id_kq4h66c",
   "language": "EN"
  },
  "kernelspec": {
   "display_name": "Python 3",
   "language": "python",
   "name": "python3"
  },
  "language_info": {
   "codemirror_mode": {
    "name": "ipython",
    "version": 3
   },
   "file_extension": ".py",
   "mimetype": "text/x-python",
   "name": "python",
   "nbconvert_exporter": "python",
   "pygments_lexer": "ipython3",
   "version": "3.6.3"
  }
 },
 "nbformat": 4,
 "nbformat_minor": 2
}
