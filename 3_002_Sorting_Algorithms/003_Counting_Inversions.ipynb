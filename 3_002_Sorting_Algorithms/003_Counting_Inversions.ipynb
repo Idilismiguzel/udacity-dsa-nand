{
 "cells": [
  {
   "cell_type": "markdown",
   "metadata": {
    "graffitiCellId": "id_ner1upo"
   },
   "source": [
    "# Counting Inversions\n",
    "\n",
    "The number of *inversions* in a disordered list is the number of pairs of elements that are inverted (out of order) in the list.  \n",
    "\n",
    "Here are some examples: \n",
    "  - [0,1] has 0 inversions\n",
    "  - [2,1] has 1 inversion (2,1)\n",
    "  - [3, 1, 2, 4] has 2 inversions (3, 2), (3, 1)\n",
    "  - [7, 5, 3, 1] has 6 inversions (7, 5), (3, 1), (5, 1), (7, 1), (5, 3), (7, 3)\n",
    "  \n",
    "The number of inversions can also be thought of in the following manner. \n",
    "\n",
    ">Given an array `arr[0 ... n-1]` of `n` distinct positive integers, for indices `i and j`, if `i < j` and `arr[i] > arr[j]` then the pair `(i, j)` is called an inversion of `arr`.\n",
    "\n",
    "## Problem statement\n",
    "\n",
    "Write a function, `count_inversions`, that takes an array (or Python list) as input, and returns a count of the total number of inversions present in the input.\n",
    "\n",
    "Mergesort provides an efficient way to solve this problem."
   ]
  },
  {
   "cell_type": "code",
   "execution_count": 9,
   "metadata": {
    "graffitiCellId": "id_jf6a5ys"
   },
   "outputs": [
    {
     "name": "stdout",
     "output_type": "stream",
     "text": [
      "4\n",
      "26\n"
     ]
    }
   ],
   "source": [
    "def count_inversions(arr):\n",
    "    # TODO: NAIVE APPROACH\n",
    "    count = 0\n",
    "    for i in range(len(arr)):\n",
    "        for j in range(i+1,len(arr)):\n",
    "            if arr[i] > arr[j]:\n",
    "                count += 1\n",
    "    return count\n",
    "\n",
    "arr = [2, 5, 1, 3, 4]\n",
    "print(count_inversions(arr)) # 4\n",
    "\n",
    "arr = [54, 99, 49, 22, 37, 18, 22, 90, 86, 33]\n",
    "print(count_inversions(arr)) # 26\n"
   ]
  },
  {
   "cell_type": "markdown",
   "metadata": {
    "graffitiCellId": "id_8809fp2"
   },
   "source": [
    "<span class=\"graffiti-highlight graffiti-id_8809fp2-id_8br31oi\"><i></i><button>Hide Solution</button></span>"
   ]
  },
  {
   "cell_type": "code",
   "execution_count": 7,
   "metadata": {
    "graffitiCellId": "id_8br31oi"
   },
   "outputs": [],
   "source": [
    "def count_inversions(arr):\n",
    "    start_index = 0\n",
    "    end_index = len(arr) - 1\n",
    "    output = inversion_count_func(arr, start_index, end_index)\n",
    "    return output\n",
    "\n",
    "\n",
    "def inversion_count_func(arr, start_index, end_index):\n",
    "\n",
    "    # Base case: single element\n",
    "    if start_index >= end_index:\n",
    "        return 0\n",
    "\n",
    "    mid_index = start_index + (end_index - start_index) // 2\n",
    "    \n",
    "    print('-------START: \\t inversion_count(l-half) ({},{})'.format(start_index, mid_index))\n",
    "    \n",
    "    # find number of inversions in left-half\n",
    "    left_answer = inversion_count_func(arr, start_index, mid_index)\n",
    "    \n",
    "    print('---------END: \\t inversion_count(l-half) ({},{}) \\t left: {}'.format(start_index, mid_index,left_answer))\n",
    "    \n",
    "    \n",
    "    print('-------START: \\t inversion_count(r-half) ({},{})'.format(mid_index + 1, end_index))\n",
    "    \n",
    "    # find number of inversions in right-half\n",
    "    right_answer = inversion_count_func(arr, mid_index + 1, end_index)\n",
    "    \n",
    "    print('---------END: \\t inversion_count(r-half) ({},{}) \\t right: {}'.format(mid_index + 1, end_index,right_answer))\n",
    "\n",
    "    output = left_answer + right_answer\n",
    "    print('              \\t                         ({},{}) \\t left + right: {}'.format(start_index,end_index,output))\n",
    "    \n",
    "    print('array: {}'.format(arr))\n",
    "    print('merge({},{}) ({},{})'.format(start_index,mid_index,mid_index+1,end_index))\n",
    "    # merge two sorted halves and count inversions while merging\n",
    "    output += merge_two_sorted_halves(arr, start_index, mid_index, mid_index + 1, end_index)\n",
    "    print('sorted: {} \\t count: {}'.format(arr,output))\n",
    "    return output\n",
    "\n",
    "\n",
    "def merge_two_sorted_halves(arr, start_one, end_one, start_two, end_two):\n",
    "    count = 0\n",
    "    left_index = start_one\n",
    "    right_index = start_two\n",
    "\n",
    "    output_length = (end_two - start_two + 1) + (end_one - start_one + 1)\n",
    "    output_list = [0 for _ in range(output_length)]\n",
    "    index = 0\n",
    "\n",
    "    while index < output_length:\n",
    "        # if left <= right, it's not an inversion\n",
    "        if arr[left_index] <= arr[right_index]:\n",
    "            output_list[index] = arr[left_index]\n",
    "            left_index += 1\n",
    "\n",
    "        else:\n",
    "            count = count + (end_one - left_index + 1)           # left > right hence it's an inversion\n",
    "            output_list[index] = arr[right_index]\n",
    "            right_index += 1\n",
    "\n",
    "        index = index + 1\n",
    "\n",
    "        if left_index > end_one:\n",
    "            for i in range(right_index, end_two + 1):\n",
    "                output_list[index] = arr[i]\n",
    "                index += 1\n",
    "            break\n",
    "\n",
    "        elif right_index > end_two:\n",
    "            for i in range(left_index, end_one + 1):\n",
    "                output_list[index] = arr[i]\n",
    "                index += 1\n",
    "            break\n",
    "\n",
    "    index = start_one\n",
    "    for i in range(output_length):\n",
    "        arr[index] = output_list[i]\n",
    "        index += 1\n",
    "    return count"
   ]
  },
  {
   "cell_type": "code",
   "execution_count": 8,
   "metadata": {
    "graffitiCellId": "id_l6xh0rg"
   },
   "outputs": [],
   "source": [
    "def test_function(test_case):\n",
    "    arr = test_case[0]\n",
    "    solution = test_case[1]\n",
    "    if count_inversions(arr) == solution:\n",
    "        print(\"Pass\")\n",
    "    else:\n",
    "        print(\"Fail\")\n"
   ]
  },
  {
   "cell_type": "code",
   "execution_count": 9,
   "metadata": {
    "graffitiCellId": "id_4aqr272"
   },
   "outputs": [
    {
     "name": "stdout",
     "output_type": "stream",
     "text": [
      "-------START: \t inversion_count(l-half) (0,2)\n",
      "-------START: \t inversion_count(l-half) (0,1)\n",
      "-------START: \t inversion_count(l-half) (0,0)\n",
      "---------END: \t inversion_count(l-half) (0,0) \t left: 0\n",
      "-------START: \t inversion_count(r-half) (1,1)\n",
      "---------END: \t inversion_count(r-half) (1,1) \t right: 0\n",
      "              \t                         (0,1) \t left + right: 0\n",
      "array: [2, 5, 1, 3, 4]\n",
      "merge(0,0) (1,1)\n",
      "sorted: [2, 5, 1, 3, 4] \t count: 0\n",
      "---------END: \t inversion_count(l-half) (0,1) \t left: 0\n",
      "-------START: \t inversion_count(r-half) (2,2)\n",
      "---------END: \t inversion_count(r-half) (2,2) \t right: 0\n",
      "              \t                         (0,2) \t left + right: 0\n",
      "array: [2, 5, 1, 3, 4]\n",
      "merge(0,1) (2,2)\n",
      "sorted: [1, 2, 5, 3, 4] \t count: 2\n",
      "---------END: \t inversion_count(l-half) (0,2) \t left: 2\n",
      "-------START: \t inversion_count(r-half) (3,4)\n",
      "-------START: \t inversion_count(l-half) (3,3)\n",
      "---------END: \t inversion_count(l-half) (3,3) \t left: 0\n",
      "-------START: \t inversion_count(r-half) (4,4)\n",
      "---------END: \t inversion_count(r-half) (4,4) \t right: 0\n",
      "              \t                         (3,4) \t left + right: 0\n",
      "array: [1, 2, 5, 3, 4]\n",
      "merge(3,3) (4,4)\n",
      "sorted: [1, 2, 5, 3, 4] \t count: 0\n",
      "---------END: \t inversion_count(r-half) (3,4) \t right: 0\n",
      "              \t                         (0,4) \t left + right: 2\n",
      "array: [1, 2, 5, 3, 4]\n",
      "merge(0,2) (3,4)\n",
      "sorted: [1, 2, 3, 4, 5] \t count: 4\n",
      "Pass\n"
     ]
    }
   ],
   "source": [
    "arr = [2, 5, 1, 3, 4]\n",
    "solution = 4\n",
    "test_case = [arr, solution]\n",
    "test_function(test_case)"
   ]
  },
  {
   "cell_type": "code",
   "execution_count": 10,
   "metadata": {
    "graffitiCellId": "id_0sqy9z2"
   },
   "outputs": [
    {
     "name": "stdout",
     "output_type": "stream",
     "text": [
      "-------START: \t inversion_count(l-half) (0,4)\n",
      "-------START: \t inversion_count(l-half) (0,2)\n",
      "-------START: \t inversion_count(l-half) (0,1)\n",
      "-------START: \t inversion_count(l-half) (0,0)\n",
      "---------END: \t inversion_count(l-half) (0,0) \t left: 0\n",
      "-------START: \t inversion_count(r-half) (1,1)\n",
      "---------END: \t inversion_count(r-half) (1,1) \t right: 0\n",
      "              \t                         (0,1) \t left + right: 0\n",
      "array: [54, 99, 49, 22, 37, 18, 22, 90, 86, 33]\n",
      "merge(0,0) (1,1)\n",
      "sorted: [54, 99, 49, 22, 37, 18, 22, 90, 86, 33] \t count: 0\n",
      "---------END: \t inversion_count(l-half) (0,1) \t left: 0\n",
      "-------START: \t inversion_count(r-half) (2,2)\n",
      "---------END: \t inversion_count(r-half) (2,2) \t right: 0\n",
      "              \t                         (0,2) \t left + right: 0\n",
      "array: [54, 99, 49, 22, 37, 18, 22, 90, 86, 33]\n",
      "merge(0,1) (2,2)\n",
      "sorted: [49, 54, 99, 22, 37, 18, 22, 90, 86, 33] \t count: 2\n",
      "---------END: \t inversion_count(l-half) (0,2) \t left: 2\n",
      "-------START: \t inversion_count(r-half) (3,4)\n",
      "-------START: \t inversion_count(l-half) (3,3)\n",
      "---------END: \t inversion_count(l-half) (3,3) \t left: 0\n",
      "-------START: \t inversion_count(r-half) (4,4)\n",
      "---------END: \t inversion_count(r-half) (4,4) \t right: 0\n",
      "              \t                         (3,4) \t left + right: 0\n",
      "array: [49, 54, 99, 22, 37, 18, 22, 90, 86, 33]\n",
      "merge(3,3) (4,4)\n",
      "sorted: [49, 54, 99, 22, 37, 18, 22, 90, 86, 33] \t count: 0\n",
      "---------END: \t inversion_count(r-half) (3,4) \t right: 0\n",
      "              \t                         (0,4) \t left + right: 2\n",
      "array: [49, 54, 99, 22, 37, 18, 22, 90, 86, 33]\n",
      "merge(0,2) (3,4)\n",
      "sorted: [22, 37, 49, 54, 99, 18, 22, 90, 86, 33] \t count: 8\n",
      "---------END: \t inversion_count(l-half) (0,4) \t left: 8\n",
      "-------START: \t inversion_count(r-half) (5,9)\n",
      "-------START: \t inversion_count(l-half) (5,7)\n",
      "-------START: \t inversion_count(l-half) (5,6)\n",
      "-------START: \t inversion_count(l-half) (5,5)\n",
      "---------END: \t inversion_count(l-half) (5,5) \t left: 0\n",
      "-------START: \t inversion_count(r-half) (6,6)\n",
      "---------END: \t inversion_count(r-half) (6,6) \t right: 0\n",
      "              \t                         (5,6) \t left + right: 0\n",
      "array: [22, 37, 49, 54, 99, 18, 22, 90, 86, 33]\n",
      "merge(5,5) (6,6)\n",
      "sorted: [22, 37, 49, 54, 99, 18, 22, 90, 86, 33] \t count: 0\n",
      "---------END: \t inversion_count(l-half) (5,6) \t left: 0\n",
      "-------START: \t inversion_count(r-half) (7,7)\n",
      "---------END: \t inversion_count(r-half) (7,7) \t right: 0\n",
      "              \t                         (5,7) \t left + right: 0\n",
      "array: [22, 37, 49, 54, 99, 18, 22, 90, 86, 33]\n",
      "merge(5,6) (7,7)\n",
      "sorted: [22, 37, 49, 54, 99, 18, 22, 90, 86, 33] \t count: 0\n",
      "---------END: \t inversion_count(l-half) (5,7) \t left: 0\n",
      "-------START: \t inversion_count(r-half) (8,9)\n",
      "-------START: \t inversion_count(l-half) (8,8)\n",
      "---------END: \t inversion_count(l-half) (8,8) \t left: 0\n",
      "-------START: \t inversion_count(r-half) (9,9)\n",
      "---------END: \t inversion_count(r-half) (9,9) \t right: 0\n",
      "              \t                         (8,9) \t left + right: 0\n",
      "array: [22, 37, 49, 54, 99, 18, 22, 90, 86, 33]\n",
      "merge(8,8) (9,9)\n",
      "sorted: [22, 37, 49, 54, 99, 18, 22, 90, 33, 86] \t count: 1\n",
      "---------END: \t inversion_count(r-half) (8,9) \t right: 1\n",
      "              \t                         (5,9) \t left + right: 1\n",
      "array: [22, 37, 49, 54, 99, 18, 22, 90, 33, 86]\n",
      "merge(5,7) (8,9)\n",
      "sorted: [22, 37, 49, 54, 99, 18, 22, 33, 86, 90] \t count: 3\n",
      "---------END: \t inversion_count(r-half) (5,9) \t right: 3\n",
      "              \t                         (0,9) \t left + right: 11\n",
      "array: [22, 37, 49, 54, 99, 18, 22, 33, 86, 90]\n",
      "merge(0,4) (5,9)\n",
      "sorted: [18, 22, 22, 33, 37, 49, 54, 86, 90, 99] \t count: 26\n",
      "Pass\n"
     ]
    }
   ],
   "source": [
    "arr = [54, 99, 49, 22, 37, 18, 22, 90, 86, 33]\n",
    "solution = 26\n",
    "test_case = [arr, solution]\n",
    "test_function(test_case)"
   ]
  },
  {
   "cell_type": "code",
   "execution_count": 11,
   "metadata": {
    "graffitiCellId": "id_s5l67ma"
   },
   "outputs": [
    {
     "name": "stdout",
     "output_type": "stream",
     "text": [
      "-------START: \t inversion_count(l-half) (0,4)\n",
      "-------START: \t inversion_count(l-half) (0,2)\n",
      "-------START: \t inversion_count(l-half) (0,1)\n",
      "-------START: \t inversion_count(l-half) (0,0)\n",
      "---------END: \t inversion_count(l-half) (0,0) \t left: 0\n",
      "-------START: \t inversion_count(r-half) (1,1)\n",
      "---------END: \t inversion_count(r-half) (1,1) \t right: 0\n",
      "              \t                         (0,1) \t left + right: 0\n",
      "array: [1, 2, 4, 2, 3, 11, 22, 99, 108, 389]\n",
      "merge(0,0) (1,1)\n",
      "sorted: [1, 2, 4, 2, 3, 11, 22, 99, 108, 389] \t count: 0\n",
      "---------END: \t inversion_count(l-half) (0,1) \t left: 0\n",
      "-------START: \t inversion_count(r-half) (2,2)\n",
      "---------END: \t inversion_count(r-half) (2,2) \t right: 0\n",
      "              \t                         (0,2) \t left + right: 0\n",
      "array: [1, 2, 4, 2, 3, 11, 22, 99, 108, 389]\n",
      "merge(0,1) (2,2)\n",
      "sorted: [1, 2, 4, 2, 3, 11, 22, 99, 108, 389] \t count: 0\n",
      "---------END: \t inversion_count(l-half) (0,2) \t left: 0\n",
      "-------START: \t inversion_count(r-half) (3,4)\n",
      "-------START: \t inversion_count(l-half) (3,3)\n",
      "---------END: \t inversion_count(l-half) (3,3) \t left: 0\n",
      "-------START: \t inversion_count(r-half) (4,4)\n",
      "---------END: \t inversion_count(r-half) (4,4) \t right: 0\n",
      "              \t                         (3,4) \t left + right: 0\n",
      "array: [1, 2, 4, 2, 3, 11, 22, 99, 108, 389]\n",
      "merge(3,3) (4,4)\n",
      "sorted: [1, 2, 4, 2, 3, 11, 22, 99, 108, 389] \t count: 0\n",
      "---------END: \t inversion_count(r-half) (3,4) \t right: 0\n",
      "              \t                         (0,4) \t left + right: 0\n",
      "array: [1, 2, 4, 2, 3, 11, 22, 99, 108, 389]\n",
      "merge(0,2) (3,4)\n",
      "sorted: [1, 2, 2, 3, 4, 11, 22, 99, 108, 389] \t count: 2\n",
      "---------END: \t inversion_count(l-half) (0,4) \t left: 2\n",
      "-------START: \t inversion_count(r-half) (5,9)\n",
      "-------START: \t inversion_count(l-half) (5,7)\n",
      "-------START: \t inversion_count(l-half) (5,6)\n",
      "-------START: \t inversion_count(l-half) (5,5)\n",
      "---------END: \t inversion_count(l-half) (5,5) \t left: 0\n",
      "-------START: \t inversion_count(r-half) (6,6)\n",
      "---------END: \t inversion_count(r-half) (6,6) \t right: 0\n",
      "              \t                         (5,6) \t left + right: 0\n",
      "array: [1, 2, 2, 3, 4, 11, 22, 99, 108, 389]\n",
      "merge(5,5) (6,6)\n",
      "sorted: [1, 2, 2, 3, 4, 11, 22, 99, 108, 389] \t count: 0\n",
      "---------END: \t inversion_count(l-half) (5,6) \t left: 0\n",
      "-------START: \t inversion_count(r-half) (7,7)\n",
      "---------END: \t inversion_count(r-half) (7,7) \t right: 0\n",
      "              \t                         (5,7) \t left + right: 0\n",
      "array: [1, 2, 2, 3, 4, 11, 22, 99, 108, 389]\n",
      "merge(5,6) (7,7)\n",
      "sorted: [1, 2, 2, 3, 4, 11, 22, 99, 108, 389] \t count: 0\n",
      "---------END: \t inversion_count(l-half) (5,7) \t left: 0\n",
      "-------START: \t inversion_count(r-half) (8,9)\n",
      "-------START: \t inversion_count(l-half) (8,8)\n",
      "---------END: \t inversion_count(l-half) (8,8) \t left: 0\n",
      "-------START: \t inversion_count(r-half) (9,9)\n",
      "---------END: \t inversion_count(r-half) (9,9) \t right: 0\n",
      "              \t                         (8,9) \t left + right: 0\n",
      "array: [1, 2, 2, 3, 4, 11, 22, 99, 108, 389]\n",
      "merge(8,8) (9,9)\n",
      "sorted: [1, 2, 2, 3, 4, 11, 22, 99, 108, 389] \t count: 0\n",
      "---------END: \t inversion_count(r-half) (8,9) \t right: 0\n",
      "              \t                         (5,9) \t left + right: 0\n",
      "array: [1, 2, 2, 3, 4, 11, 22, 99, 108, 389]\n",
      "merge(5,7) (8,9)\n",
      "sorted: [1, 2, 2, 3, 4, 11, 22, 99, 108, 389] \t count: 0\n",
      "---------END: \t inversion_count(r-half) (5,9) \t right: 0\n",
      "              \t                         (0,9) \t left + right: 2\n",
      "array: [1, 2, 2, 3, 4, 11, 22, 99, 108, 389]\n",
      "merge(0,4) (5,9)\n",
      "sorted: [1, 2, 2, 3, 4, 11, 22, 99, 108, 389] \t count: 2\n",
      "Pass\n"
     ]
    }
   ],
   "source": [
    "arr = [1, 2, 4, 2, 3, 11, 22, 99, 108, 389]\n",
    "solution = 2\n",
    "test_case = [arr, solution]\n",
    "test_function(test_case)"
   ]
  },
  {
   "cell_type": "code",
   "execution_count": null,
   "metadata": {
    "graffitiCellId": "id_4zocizt"
   },
   "outputs": [],
   "source": []
  }
 ],
 "metadata": {
  "graffiti": {
   "firstAuthorId": "dev",
   "id": "id_2rhwg9e",
   "language": "EN"
  },
  "kernelspec": {
   "display_name": "Python 3",
   "language": "python",
   "name": "python3"
  },
  "language_info": {
   "codemirror_mode": {
    "name": "ipython",
    "version": 3
   },
   "file_extension": ".py",
   "mimetype": "text/x-python",
   "name": "python",
   "nbconvert_exporter": "python",
   "pygments_lexer": "ipython3",
   "version": "3.6.3"
  }
 },
 "nbformat": 4,
 "nbformat_minor": 2
}
