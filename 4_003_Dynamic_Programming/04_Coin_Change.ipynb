{
 "cells": [
  {
   "cell_type": "markdown",
   "metadata": {
    "graffitiCellId": "id_pxg59hb"
   },
   "source": [
    "# Coin Change\n",
    "\n",
    "You are given coins of different denominations and a total amount of money. Write a function to compute the fewest coins needed to make up that amount. If that amount of money cannot be made up by any combination of the coins, return `-1`.\n",
    "\n",
    "As an example:\n",
    "* Input: `coins = [1, 2, 3]`, `amount = 6`\n",
    "* Output: `2`\n",
    "* Explanation: The output is `2` because we can use `2` coins with value `3`. That is, `6 = 3 + 3`. We could also use `3` coins with value `2` (that is, `6 = 2 + 2 + 2`), but this would use more coins—and the problem specifies we should use the smallest number of coins possible.\n",
    "\n",
    "There's test code below that you can use to check your solution. And at the bottom of the notebook, you'll find two different possible solutions."
   ]
  },
  {
   "cell_type": "code",
   "execution_count": 19,
   "metadata": {
    "graffitiCellId": "id_n12iz5t"
   },
   "outputs": [],
   "source": [
    "import sys\n",
    "\n",
    "def coin_change(coins, amount):\n",
    "\n",
    "    # TODO: Complete the coin_change function\n",
    "    # This should return one value: the fewest coins needed to make up the given amount\n",
    "    # Create a memo that will storing the fewest coins with given amount\n",
    "    # that we have already calculated so that we do not have to do the\n",
    "    # calculation again.\n",
    "    \n",
    "    m = len(coins)\n",
    "    memo = {}\n",
    "    \n",
    "    def minCoins(coins, m, amount):\n",
    "        \n",
    "        print ('START: minCoins(coins, m, {})'.format(amount))\n",
    "        # Base case:\n",
    "        if amount == 0:\n",
    "            print ('       minCoins(coins, m, {}): 0 COINS'.format(amount))\n",
    "            return 0\n",
    "        \n",
    "        # Initialize result\n",
    "        res = float('inf')\n",
    "        \n",
    "        # Check if we have already calculated\n",
    "        if amount not in memo:\n",
    "            # Try every coin that has smaller value than amount\n",
    "            for i in range(0,m):\n",
    "                print ('       minCoins(coins, m, {}): -- i: {} coin {}'.format(amount,i,coins[i]), end=\" \")\n",
    "                if (coins[i] <= amount):\n",
    "                    print('({} <= {})'.format(coins[i],amount))\n",
    "                    sub_res = minCoins(coins, m, amount - coins[i])\n",
    "                \n",
    "                    # Check for INT_MAX to avoid overflow and see if result can be minimized\n",
    "                    if (sub_res != float('inf') and sub_res + 1 < res):\n",
    "                        res = sub_res + 1\n",
    "                else:\n",
    "                    print('({} > {})'.format(coins[i],amount))\n",
    "                print ('       minCoins(coins, m, {}): -- i: {} coin {} res {}'.format(amount,i,coins[i],res))\n",
    "            memo[amount] = res\n",
    "            print ('       minCoins(coins, m, {}): {} COINS'.format(amount,res))\n",
    "            return res\n",
    "        \n",
    "        print ('       minCoins(coins, m, {}): {} COINS \\t ALREADY COMPUTED'.format(amount,memo[amount]))\n",
    "        return memo[amount]\n",
    "    \n",
    "    res = minCoins(coins, m, amount)\n",
    "    # return -1 when no change found\n",
    "    return -1 if res == float('inf') else res\n"
   ]
  },
  {
   "cell_type": "code",
   "execution_count": 20,
   "metadata": {
    "graffitiCellId": "id_g1vpolv"
   },
   "outputs": [],
   "source": [
    "def test_function(test_case):\n",
    "    arr = test_case[0]\n",
    "    amount = test_case[1]\n",
    "    solution = test_case[2]\n",
    "    output = coin_change(arr, amount)\n",
    "    if output == solution:\n",
    "        print(\"Pass\")\n",
    "    else:\n",
    "        print(\"Fail\")"
   ]
  },
  {
   "cell_type": "code",
   "execution_count": 21,
   "metadata": {
    "graffitiCellId": "id_cqdyyun"
   },
   "outputs": [
    {
     "name": "stdout",
     "output_type": "stream",
     "text": [
      "START: minCoins(coins, m, 6)\n",
      "       minCoins(coins, m, 6): -- i: 0 coin 1 (1 <= 6)\n",
      "START: minCoins(coins, m, 5)\n",
      "       minCoins(coins, m, 5): -- i: 0 coin 1 (1 <= 5)\n",
      "START: minCoins(coins, m, 4)\n",
      "       minCoins(coins, m, 4): -- i: 0 coin 1 (1 <= 4)\n",
      "START: minCoins(coins, m, 3)\n",
      "       minCoins(coins, m, 3): -- i: 0 coin 1 (1 <= 3)\n",
      "START: minCoins(coins, m, 2)\n",
      "       minCoins(coins, m, 2): -- i: 0 coin 1 (1 <= 2)\n",
      "START: minCoins(coins, m, 1)\n",
      "       minCoins(coins, m, 1): -- i: 0 coin 1 (1 <= 1)\n",
      "START: minCoins(coins, m, 0)\n",
      "       minCoins(coins, m, 0): 0 COINS\n",
      "       minCoins(coins, m, 1): -- i: 0 coin 1 res 1\n",
      "       minCoins(coins, m, 1): -- i: 1 coin 2 (2 > 1)\n",
      "       minCoins(coins, m, 1): -- i: 1 coin 2 res 1\n",
      "       minCoins(coins, m, 1): -- i: 2 coin 3 (3 > 1)\n",
      "       minCoins(coins, m, 1): -- i: 2 coin 3 res 1\n",
      "       minCoins(coins, m, 1): 1 COINS\n",
      "       minCoins(coins, m, 2): -- i: 0 coin 1 res 2\n",
      "       minCoins(coins, m, 2): -- i: 1 coin 2 (2 <= 2)\n",
      "START: minCoins(coins, m, 0)\n",
      "       minCoins(coins, m, 0): 0 COINS\n",
      "       minCoins(coins, m, 2): -- i: 1 coin 2 res 1\n",
      "       minCoins(coins, m, 2): -- i: 2 coin 3 (3 > 2)\n",
      "       minCoins(coins, m, 2): -- i: 2 coin 3 res 1\n",
      "       minCoins(coins, m, 2): 1 COINS\n",
      "       minCoins(coins, m, 3): -- i: 0 coin 1 res 2\n",
      "       minCoins(coins, m, 3): -- i: 1 coin 2 (2 <= 3)\n",
      "START: minCoins(coins, m, 1)\n",
      "       minCoins(coins, m, 1): 1 COINS \t ALREADY COMPUTED\n",
      "       minCoins(coins, m, 3): -- i: 1 coin 2 res 2\n",
      "       minCoins(coins, m, 3): -- i: 2 coin 3 (3 <= 3)\n",
      "START: minCoins(coins, m, 0)\n",
      "       minCoins(coins, m, 0): 0 COINS\n",
      "       minCoins(coins, m, 3): -- i: 2 coin 3 res 1\n",
      "       minCoins(coins, m, 3): 1 COINS\n",
      "       minCoins(coins, m, 4): -- i: 0 coin 1 res 2\n",
      "       minCoins(coins, m, 4): -- i: 1 coin 2 (2 <= 4)\n",
      "START: minCoins(coins, m, 2)\n",
      "       minCoins(coins, m, 2): 1 COINS \t ALREADY COMPUTED\n",
      "       minCoins(coins, m, 4): -- i: 1 coin 2 res 2\n",
      "       minCoins(coins, m, 4): -- i: 2 coin 3 (3 <= 4)\n",
      "START: minCoins(coins, m, 1)\n",
      "       minCoins(coins, m, 1): 1 COINS \t ALREADY COMPUTED\n",
      "       minCoins(coins, m, 4): -- i: 2 coin 3 res 2\n",
      "       minCoins(coins, m, 4): 2 COINS\n",
      "       minCoins(coins, m, 5): -- i: 0 coin 1 res 3\n",
      "       minCoins(coins, m, 5): -- i: 1 coin 2 (2 <= 5)\n",
      "START: minCoins(coins, m, 3)\n",
      "       minCoins(coins, m, 3): 1 COINS \t ALREADY COMPUTED\n",
      "       minCoins(coins, m, 5): -- i: 1 coin 2 res 2\n",
      "       minCoins(coins, m, 5): -- i: 2 coin 3 (3 <= 5)\n",
      "START: minCoins(coins, m, 2)\n",
      "       minCoins(coins, m, 2): 1 COINS \t ALREADY COMPUTED\n",
      "       minCoins(coins, m, 5): -- i: 2 coin 3 res 2\n",
      "       minCoins(coins, m, 5): 2 COINS\n",
      "       minCoins(coins, m, 6): -- i: 0 coin 1 res 3\n",
      "       minCoins(coins, m, 6): -- i: 1 coin 2 (2 <= 6)\n",
      "START: minCoins(coins, m, 4)\n",
      "       minCoins(coins, m, 4): 2 COINS \t ALREADY COMPUTED\n",
      "       minCoins(coins, m, 6): -- i: 1 coin 2 res 3\n",
      "       minCoins(coins, m, 6): -- i: 2 coin 3 (3 <= 6)\n",
      "START: minCoins(coins, m, 3)\n",
      "       minCoins(coins, m, 3): 1 COINS \t ALREADY COMPUTED\n",
      "       minCoins(coins, m, 6): -- i: 2 coin 3 res 2\n",
      "       minCoins(coins, m, 6): 2 COINS\n",
      "Pass\n"
     ]
    }
   ],
   "source": [
    "arr = [1,2,3]\n",
    "amount = 6\n",
    "solution = 2\n",
    "\n",
    "# arr = [1,2,5]\n",
    "# amount = 11\n",
    "# solution = 3\n",
    "test_case = [arr, amount, solution]\n",
    "test_function(test_case)"
   ]
  },
  {
   "cell_type": "code",
   "execution_count": 23,
   "metadata": {
    "graffitiCellId": "id_91p1cz0"
   },
   "outputs": [
    {
     "name": "stdout",
     "output_type": "stream",
     "text": [
      "4\n"
     ]
    }
   ],
   "source": [
    "\n",
    "# arr = [1,4,5,6]\n",
    "# amount = 23\n",
    "# solution = 4\n",
    "# test_case = [arr, amount, solution]\n",
    "# test_function(test_case)"
   ]
  },
  {
   "cell_type": "code",
   "execution_count": 18,
   "metadata": {
    "graffitiCellId": "id_mo17gzo"
   },
   "outputs": [
    {
     "name": "stdout",
     "output_type": "stream",
     "text": [
      "minCoins(coins, m, 2)\n",
      "Pass\n"
     ]
    }
   ],
   "source": [
    "arr = [5,7,8]\n",
    "amount = 2\n",
    "solution = -1\n",
    "test_case = [arr, amount, solution]\n",
    "test_function(test_case)"
   ]
  },
  {
   "cell_type": "markdown",
   "metadata": {
    "graffitiCellId": "id_jjdrdzm"
   },
   "source": [
    "## Solutions\n",
    "\n",
    "Let's look at two different solutions. Here's one way to do it...\n",
    "\n",
    "<span class=\"graffiti-highlight graffiti-id_jjdrdzm-id_fpk926y\"><i></i><button>Hide Solution One</button></span>"
   ]
  },
  {
   "cell_type": "code",
   "execution_count": null,
   "metadata": {
    "graffitiCellId": "id_fpk926y"
   },
   "outputs": [],
   "source": [
    "# Solution One\n",
    "\n",
    "# Let's assume F(Amount) is the minimum number of coins needed to make a change from coins [C0, C1, C2...Cn-1]\n",
    "# Then, we know that F(Amount) = min(F(Amount-C0), F(Amount-C1), F(Amount-C2)...F(Amount-Cn-1)) + 1\n",
    "\n",
    "# Base Cases: \n",
    "    # when Amount == 0: F(Amount) = 0\n",
    "    # when Amount < 0: F(Amount) =  float('inf')\n",
    "\n",
    "def coin_change(coins, amount):\n",
    "    # Create a memo that will storing the fewest coins with given amount\n",
    "    # that we have already calculated so that we do not have to do the\n",
    "    # calculation again.\n",
    "    memo = {}\n",
    "    \n",
    "    def return_change(remaining):\n",
    "        # Base cases\n",
    "        if remaining < 0:  return float('inf')\n",
    "        if remaining == 0: return 0 \n",
    "        \n",
    "        # Check if we have already calculated\n",
    "        if remaining not in memo:\n",
    "            # If not previously calculated, calculate it by calling return_change with the remaining amount\n",
    "            memo[remaining] = min(return_change(remaining - c) + 1 for c in coins)\n",
    "        return memo[remaining]\n",
    "    \n",
    "    res = return_change(amount)\n",
    "    \n",
    "    # return -1 when no change found\n",
    "    return -1 if res == float('inf') else res\n"
   ]
  },
  {
   "cell_type": "markdown",
   "metadata": {
    "graffitiCellId": "id_om55y5v"
   },
   "source": [
    "And here's another possibility:\n",
    "\n",
    "<span class=\"graffiti-highlight graffiti-id_bmrwntc-id_9z3z0e0\"><i></i><button>Hide Solution Two</button></span>"
   ]
  },
  {
   "cell_type": "code",
   "execution_count": 38,
   "metadata": {
    "graffitiCellId": "id_9z3z0e0"
   },
   "outputs": [
    {
     "name": "stdout",
     "output_type": "stream",
     "text": [
      "res: [inf, inf, inf, inf, inf, inf, inf]\n",
      "res: [0, inf, inf, inf, inf, inf, inf]\n",
      "\n",
      " i: 0 (amount)\n",
      "\t coin: 1    0 <= 6 - 1  res[0+1] = min(res[0] + 1, res[0+1])  [0, 1, inf, inf, inf, inf, inf]\n",
      "\t coin: 2    0 <= 6 - 2  res[0+2] = min(res[0] + 1, res[0+2])  [0, 1, 1, inf, inf, inf, inf]\n",
      "\t coin: 3    0 <= 6 - 3  res[0+3] = min(res[0] + 1, res[0+3])  [0, 1, 1, 1, inf, inf, inf]\n",
      "\n",
      " i: 1 (amount)\n",
      "\t coin: 1    1 <= 6 - 1  res[1+1] = min(res[1] + 1, res[1+1])  [0, 1, 1, 1, inf, inf, inf]\n",
      "\t coin: 2    1 <= 6 - 2  res[1+2] = min(res[1] + 1, res[1+2])  [0, 1, 1, 1, inf, inf, inf]\n",
      "\t coin: 3    1 <= 6 - 3  res[1+3] = min(res[1] + 1, res[1+3])  [0, 1, 1, 1, 2, inf, inf]\n",
      "\n",
      " i: 2 (amount)\n",
      "\t coin: 1    2 <= 6 - 1  res[2+1] = min(res[2] + 1, res[2+1])  [0, 1, 1, 1, 2, inf, inf]\n",
      "\t coin: 2    2 <= 6 - 2  res[2+2] = min(res[2] + 1, res[2+2])  [0, 1, 1, 1, 2, inf, inf]\n",
      "\t coin: 3    2 <= 6 - 3  res[2+3] = min(res[2] + 1, res[2+3])  [0, 1, 1, 1, 2, 2, inf]\n",
      "\n",
      " i: 3 (amount)\n",
      "\t coin: 1    3 <= 6 - 1  res[3+1] = min(res[3] + 1, res[3+1])  [0, 1, 1, 1, 2, 2, inf]\n",
      "\t coin: 2    3 <= 6 - 2  res[3+2] = min(res[3] + 1, res[3+2])  [0, 1, 1, 1, 2, 2, inf]\n",
      "\t coin: 3    3 <= 6 - 3  res[3+3] = min(res[3] + 1, res[3+3])  [0, 1, 1, 1, 2, 2, 2]\n",
      "\n",
      " i: 4 (amount)\n",
      "\t coin: 1    4 <= 6 - 1  res[4+1] = min(res[4] + 1, res[4+1])  [0, 1, 1, 1, 2, 2, 2]\n",
      "\t coin: 2    4 <= 6 - 2  res[4+2] = min(res[4] + 1, res[4+2])  [0, 1, 1, 1, 2, 2, 2]\n",
      "\t coin: 3 \n",
      " i: 5 (amount)\n",
      "\t coin: 1    5 <= 6 - 1  res[5+1] = min(res[5] + 1, res[5+1])  [0, 1, 1, 1, 2, 2, 2]\n",
      "\t coin: 2 \t coin: 3 2\n"
     ]
    }
   ],
   "source": [
    "# Solution Two\n",
    "\n",
    "# We initiate F[Amount] to be float('inf') and F[0] = 0\n",
    "# Let F[Amount] to be the minimum number of coins needed to get change for the Amount.\n",
    "# F[Amount + coin] = min(F(Amount + coin), F(Amount) + 1) if F[Amount] is reachable.\n",
    "# F[Amount + coin] = F(Amount + coin) if F[Amount] is not reachable.\n",
    "\n",
    "def coin_change2(coins, amount):\n",
    "    # initiate the list with length amount + 1 and prefill with float('inf')\n",
    "    res = [float('inf')]*(amount + 1)\n",
    "    \n",
    "    print('res: {}'.format(res))\n",
    "    # when amount = 0, 0 number of coins will be needed for the change\n",
    "    res[0] = 0\n",
    "    print('res: {}'.format(res))\n",
    "    \n",
    "    i = 0\n",
    "    while (i < amount):\n",
    "        print ('\\n i: {} (amount)'.format(i))\n",
    "        if res[i] != float('inf'):\n",
    "            for coin in coins:\n",
    "                print ('\\t coin: {}'.format(coin), end = \" \")\n",
    "                if i <= amount - coin:\n",
    "                    print ('   {} <= {} - {}'.format(i, amount, coin), end = \"  \")\n",
    "                    print ('res[{}+{}] = min(res[{}] + 1, res[{}+{}])'.format(i,coin,i,i,coin), end = \"  \")\n",
    "                    res[i+coin] = min(res[i] + 1, res[i+coin])\n",
    "                    print (res)\n",
    "        i += 1\n",
    "\n",
    "    if res[amount] == float('inf'):\n",
    "        return -1\n",
    "    return res[amount]\n",
    "        \n",
    "arr = [1,2,3]\n",
    "amount = 6\n",
    "solution = 2\n",
    "output = coin_change2(arr, amount)\n",
    "print(output)"
   ]
  },
  {
   "cell_type": "code",
   "execution_count": null,
   "metadata": {
    "graffitiCellId": "id_lpe09lf"
   },
   "outputs": [],
   "source": []
  }
 ],
 "metadata": {
  "graffiti": {
   "firstAuthorId": "10694620118",
   "id": "id_0hxxyvu",
   "language": "EN"
  },
  "kernelspec": {
   "display_name": "Python 3",
   "language": "python",
   "name": "python3"
  },
  "language_info": {
   "codemirror_mode": {
    "name": "ipython",
    "version": 3
   },
   "file_extension": ".py",
   "mimetype": "text/x-python",
   "name": "python",
   "nbconvert_exporter": "python",
   "pygments_lexer": "ipython3",
   "version": "3.6.3"
  }
 },
 "nbformat": 4,
 "nbformat_minor": 2
}
