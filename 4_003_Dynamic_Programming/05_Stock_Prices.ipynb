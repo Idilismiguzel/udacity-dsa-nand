{
 "cells": [
  {
   "cell_type": "markdown",
   "metadata": {
    "graffitiCellId": "id_pv982ru"
   },
   "source": [
    "# Stock Prices"
   ]
  },
  {
   "cell_type": "markdown",
   "metadata": {
    "collapsed": true,
    "graffitiCellId": "id_qto2uz2"
   },
   "source": [
    "You are given access to yesterday's stock prices for a single stock. The data is in the form of an array with the stock price in 30 minute intervals from 9:30 a.m EST opening to 4:00 p.m EST closing time. With this data, write a function that returns the maximum profit obtainable. You will need to buy before you can sell.\n",
    "\n",
    "For example, suppose you have the following prices:\n",
    "\n",
    "`prices = [3, 4, 7, 8, 6]`\n",
    "\n",
    ">Note: This is a shortened array, just for the sake of example—a full set of prices for the day would have 13 elements (one price for each 30 minute interval betwen 9:30 and 4:00), as seen in the test cases further down in this notebook.\n",
    "\n",
    "In order to get the maximum profit in this example, you would want to buy at a price of 3 and sell at a price of 8 to yield a maximum profit of 5. In other words, you are looking for the greatest possible difference between two numbers in the array.\n",
    "\n",
    "Fill out the function below and run it against the test cases. Take into consideration the time complexity of your solution. "
   ]
  },
  {
   "cell_type": "code",
   "execution_count": 33,
   "metadata": {
    "graffitiCellId": "id_z7ws71z"
   },
   "outputs": [],
   "source": [
    "def max_returns(prices):\n",
    "    \"\"\"\n",
    "    Calculate maxiumum possible return\n",
    "    \n",
    "    Args:\n",
    "       prices(array): array of prices\n",
    "    Returns:\n",
    "       int: The maximum profit possible\n",
    "    \"\"\"\n",
    "    \n",
    "    return prices"
   ]
  },
  {
   "cell_type": "markdown",
   "metadata": {
    "graffitiCellId": "id_uc722im"
   },
   "source": [
    "<span class=\"graffiti-highlight graffiti-id_uc722im-id_o4cterg\"><i></i><button>Hide Solution</button></span>"
   ]
  },
  {
   "cell_type": "code",
   "execution_count": 15,
   "metadata": {
    "graffitiCellId": "id_o4cterg"
   },
   "outputs": [],
   "source": [
    "# Solution\n",
    "\n",
    "def max_returns(arr):\n",
    "    \"\"\"\n",
    "    The idea is to pick two dates:\n",
    "        1. buy date\n",
    "        2. sell date\n",
    "    We will keep track of our max profit while iterating over the list\n",
    "    At each step we will make the greedy choice by choosing prices such that our profit is maximum \n",
    "    \"\"\"\n",
    "    # initialize the pointers to the first two elements in the array\n",
    "    min_price_index = 0 # first element in the array\n",
    "    max_price_index = 1 # second element in the array\n",
    "    current_min_price_index = 0 # the first element\n",
    "    \n",
    "    print (arr)\n",
    "    print ('min_idx: {} \\t max_idx: {} \\t current_min_idx: {}'.format(min_price_index,max_price_index,current_min_price_index))\n",
    "    \n",
    "    if len(arr) < 2:\n",
    "        return None\n",
    "    \n",
    "    for index in range(1, len(arr)):\n",
    "        \n",
    "        print ('i: {} value: {}'.format(index,arr[index]))\n",
    "        # current minimum price\n",
    "        if arr[index] < arr[current_min_price_index]:\n",
    "            current_min_price_index = index\n",
    "            \n",
    "        # current max profit: compare the old maximum profit with the current profit\n",
    "        if arr[max_price_index] - arr[min_price_index] < arr[index] - arr[current_min_price_index]:\n",
    "            max_price_index = index\n",
    "            min_price_index = current_min_price_index\n",
    "            \n",
    "        print ('min_idx: {} \\t max_idx: {} \\t current_min_idx: {}'.format(min_price_index,max_price_index,current_min_price_index), end =\" \")\n",
    "        print ('profit: {} - {} = {}'.format(arr[max_price_index],arr[min_price_index],arr[max_price_index] - arr[min_price_index]))\n",
    "    max_profit = arr[max_price_index] - arr[min_price_index]\n",
    "    return max_profit"
   ]
  },
  {
   "cell_type": "code",
   "execution_count": 16,
   "metadata": {
    "graffitiCellId": "id_plirn7n"
   },
   "outputs": [],
   "source": [
    "# Test Cases\n",
    "def test_function(test_case):\n",
    "    prices = test_case[0]\n",
    "    solution = test_case[1]\n",
    "    output = max_returns(prices)\n",
    "    if output == solution:\n",
    "        print(\"Pass\")\n",
    "    else:\n",
    "        print(\"Fail\")"
   ]
  },
  {
   "cell_type": "code",
   "execution_count": 17,
   "metadata": {},
   "outputs": [
    {
     "name": "stdout",
     "output_type": "stream",
     "text": [
      "[2, 2, 7, 9, 9, 12, 18, 23, 34, 37, 45, 54, 78]\n",
      "min_idx: 0 \t max_idx: 1 \t current_min_idx: 0\n",
      "i: 1 value: 2\n",
      "min_idx: 0 \t max_idx: 1 \t current_min_idx: 0 profit: 2 - 2 = 0\n",
      "i: 2 value: 7\n",
      "min_idx: 0 \t max_idx: 2 \t current_min_idx: 0 profit: 7 - 2 = 5\n",
      "i: 3 value: 9\n",
      "min_idx: 0 \t max_idx: 3 \t current_min_idx: 0 profit: 9 - 2 = 7\n",
      "i: 4 value: 9\n",
      "min_idx: 0 \t max_idx: 3 \t current_min_idx: 0 profit: 9 - 2 = 7\n",
      "i: 5 value: 12\n",
      "min_idx: 0 \t max_idx: 5 \t current_min_idx: 0 profit: 12 - 2 = 10\n",
      "i: 6 value: 18\n",
      "min_idx: 0 \t max_idx: 6 \t current_min_idx: 0 profit: 18 - 2 = 16\n",
      "i: 7 value: 23\n",
      "min_idx: 0 \t max_idx: 7 \t current_min_idx: 0 profit: 23 - 2 = 21\n",
      "i: 8 value: 34\n",
      "min_idx: 0 \t max_idx: 8 \t current_min_idx: 0 profit: 34 - 2 = 32\n",
      "i: 9 value: 37\n",
      "min_idx: 0 \t max_idx: 9 \t current_min_idx: 0 profit: 37 - 2 = 35\n",
      "i: 10 value: 45\n",
      "min_idx: 0 \t max_idx: 10 \t current_min_idx: 0 profit: 45 - 2 = 43\n",
      "i: 11 value: 54\n",
      "min_idx: 0 \t max_idx: 11 \t current_min_idx: 0 profit: 54 - 2 = 52\n",
      "i: 12 value: 78\n",
      "min_idx: 0 \t max_idx: 12 \t current_min_idx: 0 profit: 78 - 2 = 76\n",
      "Pass\n"
     ]
    }
   ],
   "source": [
    "prices = [2, 2, 7, 9, 9, 12, 18, 23, 34, 37, 45, 54, 78]\n",
    "solution = 76\n",
    "test_case = [prices, solution]\n",
    "test_function(test_case)"
   ]
  },
  {
   "cell_type": "code",
   "execution_count": 18,
   "metadata": {},
   "outputs": [
    {
     "name": "stdout",
     "output_type": "stream",
     "text": [
      "[54, 18, 37, 9, 11, 48, 23, 1, 7, 34, 2, 45, 67]\n",
      "min_idx: 0 \t max_idx: 1 \t current_min_idx: 0\n",
      "i: 1 value: 18\n",
      "min_idx: 1 \t max_idx: 1 \t current_min_idx: 1 profit: 18 - 18 = 0\n",
      "i: 2 value: 37\n",
      "min_idx: 1 \t max_idx: 2 \t current_min_idx: 1 profit: 37 - 18 = 19\n",
      "i: 3 value: 9\n",
      "min_idx: 1 \t max_idx: 2 \t current_min_idx: 3 profit: 37 - 18 = 19\n",
      "i: 4 value: 11\n",
      "min_idx: 1 \t max_idx: 2 \t current_min_idx: 3 profit: 37 - 18 = 19\n",
      "i: 5 value: 48\n",
      "min_idx: 3 \t max_idx: 5 \t current_min_idx: 3 profit: 48 - 9 = 39\n",
      "i: 6 value: 23\n",
      "min_idx: 3 \t max_idx: 5 \t current_min_idx: 3 profit: 48 - 9 = 39\n",
      "i: 7 value: 1\n",
      "min_idx: 3 \t max_idx: 5 \t current_min_idx: 7 profit: 48 - 9 = 39\n",
      "i: 8 value: 7\n",
      "min_idx: 3 \t max_idx: 5 \t current_min_idx: 7 profit: 48 - 9 = 39\n",
      "i: 9 value: 34\n",
      "min_idx: 3 \t max_idx: 5 \t current_min_idx: 7 profit: 48 - 9 = 39\n",
      "i: 10 value: 2\n",
      "min_idx: 3 \t max_idx: 5 \t current_min_idx: 7 profit: 48 - 9 = 39\n",
      "i: 11 value: 45\n",
      "min_idx: 7 \t max_idx: 11 \t current_min_idx: 7 profit: 45 - 1 = 44\n",
      "i: 12 value: 67\n",
      "min_idx: 7 \t max_idx: 12 \t current_min_idx: 7 profit: 67 - 1 = 66\n",
      "Pass\n"
     ]
    }
   ],
   "source": [
    "prices = [54, 18, 37, 9, 11, 48, 23, 1, 7, 34, 2, 45, 67]\n",
    "solution = 66\n",
    "test_case = [prices, solution]\n",
    "test_function(test_case)"
   ]
  },
  {
   "cell_type": "code",
   "execution_count": 19,
   "metadata": {},
   "outputs": [
    {
     "name": "stdout",
     "output_type": "stream",
     "text": [
      "[78, 54, 45, 37, 34, 23, 18, 12, 9, 9, 7, 2, 2]\n",
      "min_idx: 0 \t max_idx: 1 \t current_min_idx: 0\n",
      "i: 1 value: 54\n",
      "min_idx: 1 \t max_idx: 1 \t current_min_idx: 1 profit: 54 - 54 = 0\n",
      "i: 2 value: 45\n",
      "min_idx: 1 \t max_idx: 1 \t current_min_idx: 2 profit: 54 - 54 = 0\n",
      "i: 3 value: 37\n",
      "min_idx: 1 \t max_idx: 1 \t current_min_idx: 3 profit: 54 - 54 = 0\n",
      "i: 4 value: 34\n",
      "min_idx: 1 \t max_idx: 1 \t current_min_idx: 4 profit: 54 - 54 = 0\n",
      "i: 5 value: 23\n",
      "min_idx: 1 \t max_idx: 1 \t current_min_idx: 5 profit: 54 - 54 = 0\n",
      "i: 6 value: 18\n",
      "min_idx: 1 \t max_idx: 1 \t current_min_idx: 6 profit: 54 - 54 = 0\n",
      "i: 7 value: 12\n",
      "min_idx: 1 \t max_idx: 1 \t current_min_idx: 7 profit: 54 - 54 = 0\n",
      "i: 8 value: 9\n",
      "min_idx: 1 \t max_idx: 1 \t current_min_idx: 8 profit: 54 - 54 = 0\n",
      "i: 9 value: 9\n",
      "min_idx: 1 \t max_idx: 1 \t current_min_idx: 8 profit: 54 - 54 = 0\n",
      "i: 10 value: 7\n",
      "min_idx: 1 \t max_idx: 1 \t current_min_idx: 10 profit: 54 - 54 = 0\n",
      "i: 11 value: 2\n",
      "min_idx: 1 \t max_idx: 1 \t current_min_idx: 11 profit: 54 - 54 = 0\n",
      "i: 12 value: 2\n",
      "min_idx: 1 \t max_idx: 1 \t current_min_idx: 11 profit: 54 - 54 = 0\n",
      "Pass\n"
     ]
    }
   ],
   "source": [
    "prices = [78, 54, 45, 37, 34, 23, 18, 12, 9, 9, 7, 2, 2]\n",
    "solution = 0\n",
    "test_case = [prices, solution]\n",
    "test_function(test_case)"
   ]
  },
  {
   "cell_type": "code",
   "execution_count": null,
   "metadata": {
    "graffitiCellId": "id_xalowi8"
   },
   "outputs": [],
   "source": []
  }
 ],
 "metadata": {
  "graffiti": {
   "firstAuthorId": "10694620118",
   "id": "id_43ea6fg",
   "language": "EN"
  },
  "kernelspec": {
   "display_name": "Python 3",
   "language": "python",
   "name": "python3"
  },
  "language_info": {
   "codemirror_mode": {
    "name": "ipython",
    "version": 3
   },
   "file_extension": ".py",
   "mimetype": "text/x-python",
   "name": "python",
   "nbconvert_exporter": "python",
   "pygments_lexer": "ipython3",
   "version": "3.6.3"
  },
  "widgets": {
   "state": {},
   "version": "1.1.2"
  }
 },
 "nbformat": 4,
 "nbformat_minor": 2
}
