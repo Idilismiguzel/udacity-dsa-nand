{
 "cells": [
  {
   "cell_type": "markdown",
   "metadata": {
    "graffitiCellId": "id_afkw8pd"
   },
   "source": [
    "# Knapsack Problem\n",
    "Now that you saw the dynamic programming solution for the knapsack problem, it's time to implement it. Implement the function `max_value` to return the maximum value given the items (`items`) and the maximum weight of the knapsack (`knapsack_max_weight`). The `items` variable is the type `Item`, which is a [named tuple](https://docs.python.org/3/library/collections.html#collections.namedtuple)."
   ]
  },
  {
   "cell_type": "code",
   "execution_count": 4,
   "metadata": {
    "graffitiCellId": "id_p48fhwc"
   },
   "outputs": [
    {
     "name": "stdout",
     "output_type": "stream",
     "text": [
      "[0, 0, 0, 0, 0, 0, 0, 0, 0, 0, 0, 0, 0, 0, 0, 0]\n",
      "item: Item(weight=10, value=7)\n",
      "w: 15 [0, 0, 0, 0, 0, 0, 0, 0, 0, 0, 0, 0, 0, 0, 0, 7]\n",
      "w: 14 [0, 0, 0, 0, 0, 0, 0, 0, 0, 0, 0, 0, 0, 0, 7, 7]\n",
      "w: 13 [0, 0, 0, 0, 0, 0, 0, 0, 0, 0, 0, 0, 0, 7, 7, 7]\n",
      "w: 12 [0, 0, 0, 0, 0, 0, 0, 0, 0, 0, 0, 0, 7, 7, 7, 7]\n",
      "w: 11 [0, 0, 0, 0, 0, 0, 0, 0, 0, 0, 0, 7, 7, 7, 7, 7]\n",
      "w: 10 [0, 0, 0, 0, 0, 0, 0, 0, 0, 0, 7, 7, 7, 7, 7, 7]\n",
      "w: 9 [0, 0, 0, 0, 0, 0, 0, 0, 0, 0, 7, 7, 7, 7, 7, 7]\n",
      "w: 8 [0, 0, 0, 0, 0, 0, 0, 0, 0, 0, 7, 7, 7, 7, 7, 7]\n",
      "w: 7 [0, 0, 0, 0, 0, 0, 0, 0, 0, 0, 7, 7, 7, 7, 7, 7]\n",
      "w: 6 [0, 0, 0, 0, 0, 0, 0, 0, 0, 0, 7, 7, 7, 7, 7, 7]\n",
      "w: 5 [0, 0, 0, 0, 0, 0, 0, 0, 0, 0, 7, 7, 7, 7, 7, 7]\n",
      "w: 4 [0, 0, 0, 0, 0, 0, 0, 0, 0, 0, 7, 7, 7, 7, 7, 7]\n",
      "w: 3 [0, 0, 0, 0, 0, 0, 0, 0, 0, 0, 7, 7, 7, 7, 7, 7]\n",
      "w: 2 [0, 0, 0, 0, 0, 0, 0, 0, 0, 0, 7, 7, 7, 7, 7, 7]\n",
      "w: 1 [0, 0, 0, 0, 0, 0, 0, 0, 0, 0, 7, 7, 7, 7, 7, 7]\n",
      "w: 0 [0, 0, 0, 0, 0, 0, 0, 0, 0, 0, 7, 7, 7, 7, 7, 7]\n",
      "item: Item(weight=9, value=8)\n",
      "w: 15 [0, 0, 0, 0, 0, 0, 0, 0, 0, 0, 7, 7, 7, 7, 7, 8]\n",
      "w: 14 [0, 0, 0, 0, 0, 0, 0, 0, 0, 0, 7, 7, 7, 7, 8, 8]\n",
      "w: 13 [0, 0, 0, 0, 0, 0, 0, 0, 0, 0, 7, 7, 7, 8, 8, 8]\n",
      "w: 12 [0, 0, 0, 0, 0, 0, 0, 0, 0, 0, 7, 7, 8, 8, 8, 8]\n",
      "w: 11 [0, 0, 0, 0, 0, 0, 0, 0, 0, 0, 7, 8, 8, 8, 8, 8]\n",
      "w: 10 [0, 0, 0, 0, 0, 0, 0, 0, 0, 0, 8, 8, 8, 8, 8, 8]\n",
      "w: 9 [0, 0, 0, 0, 0, 0, 0, 0, 0, 8, 8, 8, 8, 8, 8, 8]\n",
      "w: 8 [0, 0, 0, 0, 0, 0, 0, 0, 0, 8, 8, 8, 8, 8, 8, 8]\n",
      "w: 7 [0, 0, 0, 0, 0, 0, 0, 0, 0, 8, 8, 8, 8, 8, 8, 8]\n",
      "w: 6 [0, 0, 0, 0, 0, 0, 0, 0, 0, 8, 8, 8, 8, 8, 8, 8]\n",
      "w: 5 [0, 0, 0, 0, 0, 0, 0, 0, 0, 8, 8, 8, 8, 8, 8, 8]\n",
      "w: 4 [0, 0, 0, 0, 0, 0, 0, 0, 0, 8, 8, 8, 8, 8, 8, 8]\n",
      "w: 3 [0, 0, 0, 0, 0, 0, 0, 0, 0, 8, 8, 8, 8, 8, 8, 8]\n",
      "w: 2 [0, 0, 0, 0, 0, 0, 0, 0, 0, 8, 8, 8, 8, 8, 8, 8]\n",
      "w: 1 [0, 0, 0, 0, 0, 0, 0, 0, 0, 8, 8, 8, 8, 8, 8, 8]\n",
      "w: 0 [0, 0, 0, 0, 0, 0, 0, 0, 0, 8, 8, 8, 8, 8, 8, 8]\n",
      "item: Item(weight=5, value=6)\n",
      "w: 15 [0, 0, 0, 0, 0, 0, 0, 0, 0, 8, 8, 8, 8, 8, 8, 14]\n",
      "w: 14 [0, 0, 0, 0, 0, 0, 0, 0, 0, 8, 8, 8, 8, 8, 14, 14]\n",
      "w: 13 [0, 0, 0, 0, 0, 0, 0, 0, 0, 8, 8, 8, 8, 8, 14, 14]\n",
      "w: 12 [0, 0, 0, 0, 0, 0, 0, 0, 0, 8, 8, 8, 8, 8, 14, 14]\n",
      "w: 11 [0, 0, 0, 0, 0, 0, 0, 0, 0, 8, 8, 8, 8, 8, 14, 14]\n",
      "w: 10 [0, 0, 0, 0, 0, 0, 0, 0, 0, 8, 8, 8, 8, 8, 14, 14]\n",
      "w: 9 [0, 0, 0, 0, 0, 0, 0, 0, 0, 8, 8, 8, 8, 8, 14, 14]\n",
      "w: 8 [0, 0, 0, 0, 0, 0, 0, 0, 6, 8, 8, 8, 8, 8, 14, 14]\n",
      "w: 7 [0, 0, 0, 0, 0, 0, 0, 6, 6, 8, 8, 8, 8, 8, 14, 14]\n",
      "w: 6 [0, 0, 0, 0, 0, 0, 6, 6, 6, 8, 8, 8, 8, 8, 14, 14]\n",
      "w: 5 [0, 0, 0, 0, 0, 6, 6, 6, 6, 8, 8, 8, 8, 8, 14, 14]\n",
      "w: 4 [0, 0, 0, 0, 0, 6, 6, 6, 6, 8, 8, 8, 8, 8, 14, 14]\n",
      "w: 3 [0, 0, 0, 0, 0, 6, 6, 6, 6, 8, 8, 8, 8, 8, 14, 14]\n",
      "w: 2 [0, 0, 0, 0, 0, 6, 6, 6, 6, 8, 8, 8, 8, 8, 14, 14]\n",
      "w: 1 [0, 0, 0, 0, 0, 6, 6, 6, 6, 8, 8, 8, 8, 8, 14, 14]\n",
      "w: 0 [0, 0, 0, 0, 0, 6, 6, 6, 6, 8, 8, 8, 8, 8, 14, 14]\n"
     ]
    }
   ],
   "source": [
    "import collections\n",
    "\n",
    "Item = collections.namedtuple('Item', ['weight', 'value'])\n",
    "\n",
    "\n",
    "def max_value(knapsack_max_weight, items):\n",
    "    \"\"\"\n",
    "    Get the maximum value of the knapsack.\n",
    "    \"\"\"\n",
    "    # row vector of weights\n",
    "    lookup_table = [0] * (knapsack_max_weight + 1)\n",
    "    print(lookup_table)\n",
    "    for item in items:\n",
    "        print('item: {}'.format(item))\n",
    "        for capacity in reversed(range(knapsack_max_weight + 1)):\n",
    "            print('w: {}'.format(capacity), end= ' ')\n",
    "            if item.weight <= capacity:\n",
    "                lookup_table[capacity] = max(lookup_table[capacity], lookup_table[capacity - item.weight] + item.value)\n",
    "            print(lookup_table)\n",
    "    return lookup_table[-1] # return the last value (solution cost)\n",
    "\n",
    "\n",
    "\n",
    "tests = [\n",
    "    {\n",
    "        'correct_output': 14,\n",
    "        'input':\n",
    "            {\n",
    "                'knapsack_max_weight': 15,\n",
    "                'items': [Item(10, 7), Item(9, 8), Item(5, 6)]}},\n",
    "    {\n",
    "        'correct_output': 13,\n",
    "        'input':\n",
    "            {\n",
    "                'knapsack_max_weight': 25,\n",
    "                'items': [Item(10, 2), Item(29, 10), Item(5, 7), Item(5, 3), Item(5, 1), Item(24, 12)]}}]\n",
    "assert tests[0]['correct_output'] == max_value(**tests[0]['input'])\n",
    "# for test in tests:\n",
    "#     assert test['correct_output'] == max_value(**test['input'])"
   ]
  },
  {
   "cell_type": "markdown",
   "metadata": {
    "graffitiCellId": "id_sczu399"
   },
   "source": [
    "<span class=\"graffiti-highlight graffiti-id_sczu399-id_vljhmf7\"><i></i><button>Hide Solution</button></span>"
   ]
  },
  {
   "cell_type": "code",
   "execution_count": null,
   "metadata": {
    "graffitiCellId": "id_vljhmf7"
   },
   "outputs": [],
   "source": [
    "def max_value(knapsack_max_weight, items):\n",
    "    # row vector of weights\n",
    "    lookup_table = [0] * (knapsack_max_weight + 1)\n",
    "\n",
    "    for item in items:\n",
    "        for capacity in reversed(range(knapsack_max_weight + 1)):\n",
    "            if item.weight <= capacity:\n",
    "                lookup_table[capacity] = max(lookup_table[capacity], lookup_table[capacity - item.weight] + item.value)\n",
    "\n",
    "    return lookup_table[-1]"
   ]
  }
 ],
 "metadata": {
  "graffiti": {
   "firstAuthorId": "dev",
   "id": "id_c8cwdgc",
   "language": "EN"
  },
  "kernelspec": {
   "display_name": "Python 3",
   "language": "python",
   "name": "python3"
  },
  "language_info": {
   "codemirror_mode": {
    "name": "ipython",
    "version": 3
   },
   "file_extension": ".py",
   "mimetype": "text/x-python",
   "name": "python",
   "nbconvert_exporter": "python",
   "pygments_lexer": "ipython3",
   "version": "3.6.3"
  }
 },
 "nbformat": 4,
 "nbformat_minor": 2
}
