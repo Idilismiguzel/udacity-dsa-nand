{
 "cells": [
  {
   "cell_type": "markdown",
   "metadata": {
    "graffitiCellId": "id_raex3xy"
   },
   "source": [
    "## Problem Statement\n",
    "\n",
    "Define a procedure, `deep_reverse`, that takes as input a list, and returns a new list that is the deep reverse of the input list.  \n",
    "This means it reverses all the elements in the list, and if any of those elements are lists themselves, reverses all the elements in the inner list, all the way down. \n",
    "\n",
    ">Note: The procedure must not change the input list itself.\n",
    "\n",
    "\n"
   ]
  },
  {
   "cell_type": "code",
   "execution_count": 17,
   "metadata": {
    "graffitiCellId": "id_ga0lpbe"
   },
   "outputs": [],
   "source": [
    "def deep_reverse(arr):\n",
    "    pass"
   ]
  },
  {
   "cell_type": "markdown",
   "metadata": {
    "graffitiCellId": "id_25r0ar8"
   },
   "source": [
    "<span class=\"graffiti-highlight graffiti-id_25r0ar8-id_l0hi76f\"><i></i><button>Hide Solution</button></span>"
   ]
  },
  {
   "cell_type": "code",
   "execution_count": 43,
   "metadata": {
    "graffitiCellId": "id_l0hi76f"
   },
   "outputs": [],
   "source": [
    "def is_list(element):\n",
    "    \"\"\"\n",
    "    Check if element is a Python list\n",
    "    \"\"\"\n",
    "    return isinstance(element, list)\n",
    "\n",
    "def deep_reverse(arr):\n",
    "    \"\"\"\n",
    "    Function to deep_reverse an input list\n",
    "    \"\"\"\n",
    "    print('---- deep_reverse({}) ---- START '.format(arr))\n",
    "    output = deep_reverse_func(arr,0)\n",
    "    print('---- deep_reverse({}) ---- END'.format(arr))\n",
    "    return output\n",
    "\n",
    "def deep_reverse_func(arr, index):\n",
    "    \"\"\"\n",
    "    Recursive function to deep_reverse the input list\n",
    "    index: position in the array of the element to append\n",
    "    \"\"\"\n",
    "    print('---- deep_reverse_func({},{}) ---- START'.format(arr, index))\n",
    "    # Base Case\n",
    "    if index == len(arr):\n",
    "        print('Base case: {}'.format(list()))\n",
    "        print('---- deep_reverse_func({},{}) ---- END'.format(arr, index))\n",
    "        return list()\n",
    "    \n",
    "    output = deep_reverse_func(arr, index + 1)\n",
    "    print('---- deep_reverse_func({},{}) ---- CALL'.format(arr, index))\n",
    "    print('output: {}'.format(output))\n",
    "    \n",
    "    # if element is a list --> deep_reverse the list\n",
    "    if is_list(arr[index]):\n",
    "        print('The item in arr[{}]: {} is a list'.format(index,arr[index]))\n",
    "        to_append = deep_reverse(arr[index])\n",
    "    else:\n",
    "        to_append = arr[index]\n",
    "        \n",
    "    output.append(to_append)\n",
    "    print('to_append: {}'.format(to_append))\n",
    "    print('output: {}'.format(output))\n",
    "    print('---- deep_reverse_func({},{}) ---- END'.format(arr, index))\n",
    "    return output"
   ]
  },
  {
   "cell_type": "code",
   "execution_count": 44,
   "metadata": {
    "graffitiCellId": "id_qgv6buk"
   },
   "outputs": [],
   "source": [
    "def test_function(test_case):\n",
    "    arr = test_case[0]\n",
    "    solution = test_case[1]\n",
    "    \n",
    "    output = deep_reverse(arr)\n",
    "\n",
    "    if output == solution:\n",
    "        print(\"Pass\")\n",
    "    else:\n",
    "        print(\"False\")"
   ]
  },
  {
   "cell_type": "code",
   "execution_count": 45,
   "metadata": {
    "graffitiCellId": "id_96zra8y"
   },
   "outputs": [
    {
     "name": "stdout",
     "output_type": "stream",
     "text": [
      "---- deep_reverse([1, 2, 3, 4, 5]) ---- START \n",
      "---- deep_reverse_func([1, 2, 3, 4, 5],0) ---- START\n",
      "---- deep_reverse_func([1, 2, 3, 4, 5],1) ---- START\n",
      "---- deep_reverse_func([1, 2, 3, 4, 5],2) ---- START\n",
      "---- deep_reverse_func([1, 2, 3, 4, 5],3) ---- START\n",
      "---- deep_reverse_func([1, 2, 3, 4, 5],4) ---- START\n",
      "---- deep_reverse_func([1, 2, 3, 4, 5],5) ---- START\n",
      "Base case: []\n",
      "---- deep_reverse_func([1, 2, 3, 4, 5],5) ---- END\n",
      "---- deep_reverse_func([1, 2, 3, 4, 5],4) ---- CALL\n",
      "output: []\n",
      "to_append: 5\n",
      "output: [5]\n",
      "---- deep_reverse_func([1, 2, 3, 4, 5],4) ---- END\n",
      "---- deep_reverse_func([1, 2, 3, 4, 5],3) ---- CALL\n",
      "output: [5]\n",
      "to_append: 4\n",
      "output: [5, 4]\n",
      "---- deep_reverse_func([1, 2, 3, 4, 5],3) ---- END\n",
      "---- deep_reverse_func([1, 2, 3, 4, 5],2) ---- CALL\n",
      "output: [5, 4]\n",
      "to_append: 3\n",
      "output: [5, 4, 3]\n",
      "---- deep_reverse_func([1, 2, 3, 4, 5],2) ---- END\n",
      "---- deep_reverse_func([1, 2, 3, 4, 5],1) ---- CALL\n",
      "output: [5, 4, 3]\n",
      "to_append: 2\n",
      "output: [5, 4, 3, 2]\n",
      "---- deep_reverse_func([1, 2, 3, 4, 5],1) ---- END\n",
      "---- deep_reverse_func([1, 2, 3, 4, 5],0) ---- CALL\n",
      "output: [5, 4, 3, 2]\n",
      "to_append: 1\n",
      "output: [5, 4, 3, 2, 1]\n",
      "---- deep_reverse_func([1, 2, 3, 4, 5],0) ---- END\n",
      "---- deep_reverse([1, 2, 3, 4, 5]) ---- END\n",
      "Pass\n"
     ]
    }
   ],
   "source": [
    "arr = [1, 2, 3, 4, 5]\n",
    "solution = [5, 4, 3, 2, 1]\n",
    "test_case = [arr, solution]\n",
    "test_function(test_case)"
   ]
  },
  {
   "cell_type": "code",
   "execution_count": 46,
   "metadata": {
    "graffitiCellId": "id_ptx3y5c"
   },
   "outputs": [
    {
     "name": "stdout",
     "output_type": "stream",
     "text": [
      "---- deep_reverse([1, 2, [3, 4, 5], 4, 5]) ---- START \n",
      "---- deep_reverse_func([1, 2, [3, 4, 5], 4, 5],0) ---- START\n",
      "---- deep_reverse_func([1, 2, [3, 4, 5], 4, 5],1) ---- START\n",
      "---- deep_reverse_func([1, 2, [3, 4, 5], 4, 5],2) ---- START\n",
      "---- deep_reverse_func([1, 2, [3, 4, 5], 4, 5],3) ---- START\n",
      "---- deep_reverse_func([1, 2, [3, 4, 5], 4, 5],4) ---- START\n",
      "---- deep_reverse_func([1, 2, [3, 4, 5], 4, 5],5) ---- START\n",
      "Base case: []\n",
      "---- deep_reverse_func([1, 2, [3, 4, 5], 4, 5],5) ---- END\n",
      "---- deep_reverse_func([1, 2, [3, 4, 5], 4, 5],4) ---- CALL\n",
      "output: []\n",
      "to_append: 5\n",
      "output: [5]\n",
      "---- deep_reverse_func([1, 2, [3, 4, 5], 4, 5],4) ---- END\n",
      "---- deep_reverse_func([1, 2, [3, 4, 5], 4, 5],3) ---- CALL\n",
      "output: [5]\n",
      "to_append: 4\n",
      "output: [5, 4]\n",
      "---- deep_reverse_func([1, 2, [3, 4, 5], 4, 5],3) ---- END\n",
      "---- deep_reverse_func([1, 2, [3, 4, 5], 4, 5],2) ---- CALL\n",
      "output: [5, 4]\n",
      "The item in arr[2]: [3, 4, 5] is a list\n",
      "---- deep_reverse([3, 4, 5]) ---- START \n",
      "---- deep_reverse_func([3, 4, 5],0) ---- START\n",
      "---- deep_reverse_func([3, 4, 5],1) ---- START\n",
      "---- deep_reverse_func([3, 4, 5],2) ---- START\n",
      "---- deep_reverse_func([3, 4, 5],3) ---- START\n",
      "Base case: []\n",
      "---- deep_reverse_func([3, 4, 5],3) ---- END\n",
      "---- deep_reverse_func([3, 4, 5],2) ---- CALL\n",
      "output: []\n",
      "to_append: 5\n",
      "output: [5]\n",
      "---- deep_reverse_func([3, 4, 5],2) ---- END\n",
      "---- deep_reverse_func([3, 4, 5],1) ---- CALL\n",
      "output: [5]\n",
      "to_append: 4\n",
      "output: [5, 4]\n",
      "---- deep_reverse_func([3, 4, 5],1) ---- END\n",
      "---- deep_reverse_func([3, 4, 5],0) ---- CALL\n",
      "output: [5, 4]\n",
      "to_append: 3\n",
      "output: [5, 4, 3]\n",
      "---- deep_reverse_func([3, 4, 5],0) ---- END\n",
      "---- deep_reverse([3, 4, 5]) ---- END\n",
      "to_append: [5, 4, 3]\n",
      "output: [5, 4, [5, 4, 3]]\n",
      "---- deep_reverse_func([1, 2, [3, 4, 5], 4, 5],2) ---- END\n",
      "---- deep_reverse_func([1, 2, [3, 4, 5], 4, 5],1) ---- CALL\n",
      "output: [5, 4, [5, 4, 3]]\n",
      "to_append: 2\n",
      "output: [5, 4, [5, 4, 3], 2]\n",
      "---- deep_reverse_func([1, 2, [3, 4, 5], 4, 5],1) ---- END\n",
      "---- deep_reverse_func([1, 2, [3, 4, 5], 4, 5],0) ---- CALL\n",
      "output: [5, 4, [5, 4, 3], 2]\n",
      "to_append: 1\n",
      "output: [5, 4, [5, 4, 3], 2, 1]\n",
      "---- deep_reverse_func([1, 2, [3, 4, 5], 4, 5],0) ---- END\n",
      "---- deep_reverse([1, 2, [3, 4, 5], 4, 5]) ---- END\n",
      "Pass\n"
     ]
    }
   ],
   "source": [
    "arr = [1, 2, [3, 4, 5], 4, 5]\n",
    "solution = [5, 4, [5, 4, 3], 2, 1]\n",
    "test_case = [arr, solution]\n",
    "test_function(test_case)"
   ]
  },
  {
   "cell_type": "code",
   "execution_count": 47,
   "metadata": {
    "graffitiCellId": "id_hblffre"
   },
   "outputs": [
    {
     "name": "stdout",
     "output_type": "stream",
     "text": [
      "---- deep_reverse([1, [2, 3, [4, [5, 6]]]]) ---- START \n",
      "---- deep_reverse_func([1, [2, 3, [4, [5, 6]]]],0) ---- START\n",
      "---- deep_reverse_func([1, [2, 3, [4, [5, 6]]]],1) ---- START\n",
      "---- deep_reverse_func([1, [2, 3, [4, [5, 6]]]],2) ---- START\n",
      "Base case: []\n",
      "---- deep_reverse_func([1, [2, 3, [4, [5, 6]]]],2) ---- END\n",
      "---- deep_reverse_func([1, [2, 3, [4, [5, 6]]]],1) ---- CALL\n",
      "output: []\n",
      "The item in arr[1]: [2, 3, [4, [5, 6]]] is a list\n",
      "---- deep_reverse([2, 3, [4, [5, 6]]]) ---- START \n",
      "---- deep_reverse_func([2, 3, [4, [5, 6]]],0) ---- START\n",
      "---- deep_reverse_func([2, 3, [4, [5, 6]]],1) ---- START\n",
      "---- deep_reverse_func([2, 3, [4, [5, 6]]],2) ---- START\n",
      "---- deep_reverse_func([2, 3, [4, [5, 6]]],3) ---- START\n",
      "Base case: []\n",
      "---- deep_reverse_func([2, 3, [4, [5, 6]]],3) ---- END\n",
      "---- deep_reverse_func([2, 3, [4, [5, 6]]],2) ---- CALL\n",
      "output: []\n",
      "The item in arr[2]: [4, [5, 6]] is a list\n",
      "---- deep_reverse([4, [5, 6]]) ---- START \n",
      "---- deep_reverse_func([4, [5, 6]],0) ---- START\n",
      "---- deep_reverse_func([4, [5, 6]],1) ---- START\n",
      "---- deep_reverse_func([4, [5, 6]],2) ---- START\n",
      "Base case: []\n",
      "---- deep_reverse_func([4, [5, 6]],2) ---- END\n",
      "---- deep_reverse_func([4, [5, 6]],1) ---- CALL\n",
      "output: []\n",
      "The item in arr[1]: [5, 6] is a list\n",
      "---- deep_reverse([5, 6]) ---- START \n",
      "---- deep_reverse_func([5, 6],0) ---- START\n",
      "---- deep_reverse_func([5, 6],1) ---- START\n",
      "---- deep_reverse_func([5, 6],2) ---- START\n",
      "Base case: []\n",
      "---- deep_reverse_func([5, 6],2) ---- END\n",
      "---- deep_reverse_func([5, 6],1) ---- CALL\n",
      "output: []\n",
      "to_append: 6\n",
      "output: [6]\n",
      "---- deep_reverse_func([5, 6],1) ---- END\n",
      "---- deep_reverse_func([5, 6],0) ---- CALL\n",
      "output: [6]\n",
      "to_append: 5\n",
      "output: [6, 5]\n",
      "---- deep_reverse_func([5, 6],0) ---- END\n",
      "---- deep_reverse([5, 6]) ---- END\n",
      "to_append: [6, 5]\n",
      "output: [[6, 5]]\n",
      "---- deep_reverse_func([4, [5, 6]],1) ---- END\n",
      "---- deep_reverse_func([4, [5, 6]],0) ---- CALL\n",
      "output: [[6, 5]]\n",
      "to_append: 4\n",
      "output: [[6, 5], 4]\n",
      "---- deep_reverse_func([4, [5, 6]],0) ---- END\n",
      "---- deep_reverse([4, [5, 6]]) ---- END\n",
      "to_append: [[6, 5], 4]\n",
      "output: [[[6, 5], 4]]\n",
      "---- deep_reverse_func([2, 3, [4, [5, 6]]],2) ---- END\n",
      "---- deep_reverse_func([2, 3, [4, [5, 6]]],1) ---- CALL\n",
      "output: [[[6, 5], 4]]\n",
      "to_append: 3\n",
      "output: [[[6, 5], 4], 3]\n",
      "---- deep_reverse_func([2, 3, [4, [5, 6]]],1) ---- END\n",
      "---- deep_reverse_func([2, 3, [4, [5, 6]]],0) ---- CALL\n",
      "output: [[[6, 5], 4], 3]\n",
      "to_append: 2\n",
      "output: [[[6, 5], 4], 3, 2]\n",
      "---- deep_reverse_func([2, 3, [4, [5, 6]]],0) ---- END\n",
      "---- deep_reverse([2, 3, [4, [5, 6]]]) ---- END\n",
      "to_append: [[[6, 5], 4], 3, 2]\n",
      "output: [[[[6, 5], 4], 3, 2]]\n",
      "---- deep_reverse_func([1, [2, 3, [4, [5, 6]]]],1) ---- END\n",
      "---- deep_reverse_func([1, [2, 3, [4, [5, 6]]]],0) ---- CALL\n",
      "output: [[[[6, 5], 4], 3, 2]]\n",
      "to_append: 1\n",
      "output: [[[[6, 5], 4], 3, 2], 1]\n",
      "---- deep_reverse_func([1, [2, 3, [4, [5, 6]]]],0) ---- END\n",
      "---- deep_reverse([1, [2, 3, [4, [5, 6]]]]) ---- END\n",
      "Pass\n"
     ]
    }
   ],
   "source": [
    "arr = [1, [2, 3, [4, [5, 6]]]]\n",
    "solution = [[[[6, 5], 4], 3, 2], 1]\n",
    "test_case = [arr, solution]\n",
    "test_function(test_case)"
   ]
  },
  {
   "cell_type": "code",
   "execution_count": null,
   "metadata": {
    "graffitiCellId": "id_ltvv7w1"
   },
   "outputs": [],
   "source": [
    "arr =  [1, [2,3], 4, [5,6]]\n",
    "solution = [ [6,5], 4, [3, 2], 1]\n",
    "test_case = [arr, solution]\n",
    "test_function(test_case)"
   ]
  }
 ],
 "metadata": {
  "graffiti": {
   "firstAuthorId": "dev",
   "id": "id_u69esyt",
   "language": "EN"
  },
  "kernelspec": {
   "display_name": "Python 3",
   "language": "python",
   "name": "python3"
  },
  "language_info": {
   "codemirror_mode": {
    "name": "ipython",
    "version": 3
   },
   "file_extension": ".py",
   "mimetype": "text/x-python",
   "name": "python",
   "nbconvert_exporter": "python",
   "pygments_lexer": "ipython3",
   "version": "3.6.3"
  }
 },
 "nbformat": 4,
 "nbformat_minor": 2
}
