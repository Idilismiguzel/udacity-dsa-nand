{
 "cells": [
  {
   "cell_type": "markdown",
   "metadata": {
    "graffitiCellId": "id_twe5ety"
   },
   "source": [
    "## Keypad Combinations\n",
    "\n",
    "A keypad on a cellphone has alphabets for all numbers between 2 and 9. \n",
    "\n",
    "You can make different combinations of alphabets by pressing the numbers.\n",
    "\n",
    "For example, if you press 23, the following combinations are possible:\n",
    "\n",
    "`ad, ae, af, bd, be, bf, cd, ce, cf`\n",
    "\n",
    "Note that because 2 is pressed before 3, the first letter is always an alphabet on the number 2.\n",
    "Likewise, if the user types 32, the order would be\n",
    "\n",
    "`da, db, dc, ea, eb, ec, fa, fb, fc`\n",
    "\n",
    "\n",
    "Given an integer `num`, find out all the possible strings that can be made using digits of input `num`. \n",
    "Return these strings in a list. The order of strings in the list does not matter. However, as stated earlier, the order of letters in a particular string matters."
   ]
  },
  {
   "cell_type": "code",
   "execution_count": 31,
   "metadata": {
    "graffitiCellId": "id_ffyjq5w"
   },
   "outputs": [],
   "source": [
    "def get_characters(num):\n",
    "    if num == 2:\n",
    "        return \"abc\"\n",
    "    elif num == 3:\n",
    "        return \"def\"\n",
    "    elif num == 4:\n",
    "        return \"ghi\"\n",
    "    elif num == 5:\n",
    "        return \"jkl\"\n",
    "    elif num == 6:\n",
    "        return \"mno\"\n",
    "    elif num == 7:\n",
    "        return \"pqrs\"\n",
    "    elif num == 8:\n",
    "        return \"tuv\"\n",
    "    elif num == 9:\n",
    "        return \"wxyz\"\n",
    "    else:\n",
    "        return \"\"\n",
    "\n",
    "\n",
    "def keypad(num):\n",
    "    print('---- keypad({}) ---- START'.format(num))\n",
    "    if num <= 1:\n",
    "        print('Base case: [\"\"]')\n",
    "        print('---- keypad({}) ---- END'.format(num))\n",
    "        return [\"\"]\n",
    "    elif 1 < num <= 9:\n",
    "        print('Base case: {}'.format(get_characters(num)))\n",
    "        print('---- keypad({}) ---- END'.format(num))\n",
    "        return list(get_characters(num))\n",
    "\n",
    "    last_digit = num % 10\n",
    "    small_output = keypad(num//10)\n",
    "    keypad_string = get_characters(last_digit)\n",
    "    print('---- keypad({}) ---- CALL'.format(num))\n",
    "    print('last_digit: {}'.format(last_digit))\n",
    "    print('small_output: {}'.format(small_output))\n",
    "    print('keypad_string: {}'.format(keypad_string))\n",
    "    output = list()\n",
    "    print('for loop: keypad_string')\n",
    "    for character in keypad_string:\n",
    "        print('  character: {}'.format(character))\n",
    "        print('  for loop: small_output')\n",
    "        for item in small_output:\n",
    "            print('\\t - item: {}'.format(item))\n",
    "            new_item = item + character\n",
    "            print('\\t - new_item: {} + {} = {}'.format(item, character, new_item))\n",
    "            output.append(new_item)\n",
    "    \n",
    "    print('output: {}'.format(output))\n",
    "    print('---- keypad({}) ---- END'.format(num))\n",
    "    return output\n"
   ]
  },
  {
   "cell_type": "code",
   "execution_count": 2,
   "metadata": {
    "graffitiCellId": "id_l66zrar"
   },
   "outputs": [],
   "source": [
    "def test_keypad(input, expected_output):\n",
    "    if sorted(keypad(input)) == expected_output:\n",
    "        print(\"Yay. We got it right.\")\n",
    "    else:\n",
    "        print(\"Oops! That was incorrect.\")"
   ]
  },
  {
   "cell_type": "code",
   "execution_count": 32,
   "metadata": {
    "graffitiCellId": "id_vnyax73"
   },
   "outputs": [
    {
     "name": "stdout",
     "output_type": "stream",
     "text": [
      "---- keypad(0) ---- START\n",
      "Base case: [\"\"]\n",
      "---- keypad(0) ---- END\n",
      "Yay. We got it right.\n"
     ]
    }
   ],
   "source": [
    "# Base case: list with empty string\n",
    "input = 0\n",
    "expected_output = [\"\"]\n",
    "test_keypad(input, expected_output)"
   ]
  },
  {
   "cell_type": "code",
   "execution_count": 33,
   "metadata": {
    "graffitiCellId": "id_458su6i"
   },
   "outputs": [
    {
     "name": "stdout",
     "output_type": "stream",
     "text": [
      "---- keypad(23) ---- START\n",
      "---- keypad(2) ---- START\n",
      "Base case: abc\n",
      "---- keypad(2) ---- END\n",
      "---- keypad(23) ---- CALL\n",
      "last_digit: 3\n",
      "small_output: ['a', 'b', 'c']\n",
      "keypad_string: def\n",
      "for loop: keypad_string\n",
      "  character: d\n",
      "  for loop: small_output\n",
      "\t - item: a\n",
      "\t - new_item: a + d = ad\n",
      "\t - item: b\n",
      "\t - new_item: b + d = bd\n",
      "\t - item: c\n",
      "\t - new_item: c + d = cd\n",
      "  character: e\n",
      "  for loop: small_output\n",
      "\t - item: a\n",
      "\t - new_item: a + e = ae\n",
      "\t - item: b\n",
      "\t - new_item: b + e = be\n",
      "\t - item: c\n",
      "\t - new_item: c + e = ce\n",
      "  character: f\n",
      "  for loop: small_output\n",
      "\t - item: a\n",
      "\t - new_item: a + f = af\n",
      "\t - item: b\n",
      "\t - new_item: b + f = bf\n",
      "\t - item: c\n",
      "\t - new_item: c + f = cf\n",
      "output: ['ad', 'bd', 'cd', 'ae', 'be', 'ce', 'af', 'bf', 'cf']\n",
      "---- keypad(23) ---- END\n",
      "Yay. We got it right.\n"
     ]
    }
   ],
   "source": [
    "# Example case\n",
    "input = 23\n",
    "expected_output = sorted([\"ad\", \"ae\", \"af\", \"bd\", \"be\", \"bf\", \"cd\", \"ce\", \"cf\"])\n",
    "test_keypad(input, expected_output)"
   ]
  },
  {
   "cell_type": "code",
   "execution_count": 34,
   "metadata": {
    "graffitiCellId": "id_j04lazf"
   },
   "outputs": [
    {
     "name": "stdout",
     "output_type": "stream",
     "text": [
      "---- keypad(32) ---- START\n",
      "---- keypad(3) ---- START\n",
      "Base case: def\n",
      "---- keypad(3) ---- END\n",
      "---- keypad(32) ---- CALL\n",
      "last_digit: 2\n",
      "small_output: ['d', 'e', 'f']\n",
      "keypad_string: abc\n",
      "for loop: keypad_string\n",
      "  character: a\n",
      "  for loop: small_output\n",
      "\t - item: d\n",
      "\t - new_item: d + a = da\n",
      "\t - item: e\n",
      "\t - new_item: e + a = ea\n",
      "\t - item: f\n",
      "\t - new_item: f + a = fa\n",
      "  character: b\n",
      "  for loop: small_output\n",
      "\t - item: d\n",
      "\t - new_item: d + b = db\n",
      "\t - item: e\n",
      "\t - new_item: e + b = eb\n",
      "\t - item: f\n",
      "\t - new_item: f + b = fb\n",
      "  character: c\n",
      "  for loop: small_output\n",
      "\t - item: d\n",
      "\t - new_item: d + c = dc\n",
      "\t - item: e\n",
      "\t - new_item: e + c = ec\n",
      "\t - item: f\n",
      "\t - new_item: f + c = fc\n",
      "output: ['da', 'ea', 'fa', 'db', 'eb', 'fb', 'dc', 'ec', 'fc']\n",
      "---- keypad(32) ---- END\n",
      "Yay. We got it right.\n"
     ]
    }
   ],
   "source": [
    "# Example case\n",
    "input = 32\n",
    "expected_output = sorted([\"da\", \"db\", \"dc\", \"ea\", \"eb\", \"ec\", \"fa\", \"fb\", \"fc\"])\n",
    "test_keypad(input, expected_output)"
   ]
  },
  {
   "cell_type": "code",
   "execution_count": 35,
   "metadata": {
    "graffitiCellId": "id_4ziwk7w"
   },
   "outputs": [
    {
     "name": "stdout",
     "output_type": "stream",
     "text": [
      "---- keypad(8) ---- START\n",
      "Base case: tuv\n",
      "---- keypad(8) ---- END\n",
      "Yay. We got it right.\n"
     ]
    }
   ],
   "source": [
    "# Example case\n",
    "input = 8\n",
    "expected_output = sorted([\"t\", \"u\", \"v\"])\n",
    "test_keypad(input, expected_output)"
   ]
  },
  {
   "cell_type": "code",
   "execution_count": 36,
   "metadata": {
    "graffitiCellId": "id_u7fe0h1"
   },
   "outputs": [
    {
     "name": "stdout",
     "output_type": "stream",
     "text": [
      "---- keypad(354) ---- START\n",
      "---- keypad(35) ---- START\n",
      "---- keypad(3) ---- START\n",
      "Base case: def\n",
      "---- keypad(3) ---- END\n",
      "---- keypad(35) ---- CALL\n",
      "last_digit: 5\n",
      "small_output: ['d', 'e', 'f']\n",
      "keypad_string: jkl\n",
      "for loop: keypad_string\n",
      "  character: j\n",
      "  for loop: small_output\n",
      "\t - item: d\n",
      "\t - new_item: d + j = dj\n",
      "\t - item: e\n",
      "\t - new_item: e + j = ej\n",
      "\t - item: f\n",
      "\t - new_item: f + j = fj\n",
      "  character: k\n",
      "  for loop: small_output\n",
      "\t - item: d\n",
      "\t - new_item: d + k = dk\n",
      "\t - item: e\n",
      "\t - new_item: e + k = ek\n",
      "\t - item: f\n",
      "\t - new_item: f + k = fk\n",
      "  character: l\n",
      "  for loop: small_output\n",
      "\t - item: d\n",
      "\t - new_item: d + l = dl\n",
      "\t - item: e\n",
      "\t - new_item: e + l = el\n",
      "\t - item: f\n",
      "\t - new_item: f + l = fl\n",
      "output: ['dj', 'ej', 'fj', 'dk', 'ek', 'fk', 'dl', 'el', 'fl']\n",
      "---- keypad(35) ---- END\n",
      "---- keypad(354) ---- CALL\n",
      "last_digit: 4\n",
      "small_output: ['dj', 'ej', 'fj', 'dk', 'ek', 'fk', 'dl', 'el', 'fl']\n",
      "keypad_string: ghi\n",
      "for loop: keypad_string\n",
      "  character: g\n",
      "  for loop: small_output\n",
      "\t - item: dj\n",
      "\t - new_item: dj + g = djg\n",
      "\t - item: ej\n",
      "\t - new_item: ej + g = ejg\n",
      "\t - item: fj\n",
      "\t - new_item: fj + g = fjg\n",
      "\t - item: dk\n",
      "\t - new_item: dk + g = dkg\n",
      "\t - item: ek\n",
      "\t - new_item: ek + g = ekg\n",
      "\t - item: fk\n",
      "\t - new_item: fk + g = fkg\n",
      "\t - item: dl\n",
      "\t - new_item: dl + g = dlg\n",
      "\t - item: el\n",
      "\t - new_item: el + g = elg\n",
      "\t - item: fl\n",
      "\t - new_item: fl + g = flg\n",
      "  character: h\n",
      "  for loop: small_output\n",
      "\t - item: dj\n",
      "\t - new_item: dj + h = djh\n",
      "\t - item: ej\n",
      "\t - new_item: ej + h = ejh\n",
      "\t - item: fj\n",
      "\t - new_item: fj + h = fjh\n",
      "\t - item: dk\n",
      "\t - new_item: dk + h = dkh\n",
      "\t - item: ek\n",
      "\t - new_item: ek + h = ekh\n",
      "\t - item: fk\n",
      "\t - new_item: fk + h = fkh\n",
      "\t - item: dl\n",
      "\t - new_item: dl + h = dlh\n",
      "\t - item: el\n",
      "\t - new_item: el + h = elh\n",
      "\t - item: fl\n",
      "\t - new_item: fl + h = flh\n",
      "  character: i\n",
      "  for loop: small_output\n",
      "\t - item: dj\n",
      "\t - new_item: dj + i = dji\n",
      "\t - item: ej\n",
      "\t - new_item: ej + i = eji\n",
      "\t - item: fj\n",
      "\t - new_item: fj + i = fji\n",
      "\t - item: dk\n",
      "\t - new_item: dk + i = dki\n",
      "\t - item: ek\n",
      "\t - new_item: ek + i = eki\n",
      "\t - item: fk\n",
      "\t - new_item: fk + i = fki\n",
      "\t - item: dl\n",
      "\t - new_item: dl + i = dli\n",
      "\t - item: el\n",
      "\t - new_item: el + i = eli\n",
      "\t - item: fl\n",
      "\t - new_item: fl + i = fli\n",
      "output: ['djg', 'ejg', 'fjg', 'dkg', 'ekg', 'fkg', 'dlg', 'elg', 'flg', 'djh', 'ejh', 'fjh', 'dkh', 'ekh', 'fkh', 'dlh', 'elh', 'flh', 'dji', 'eji', 'fji', 'dki', 'eki', 'fki', 'dli', 'eli', 'fli']\n",
      "---- keypad(354) ---- END\n",
      "Yay. We got it right.\n"
     ]
    }
   ],
   "source": [
    "input = 354\n",
    "expected_output = sorted([\"djg\", \"ejg\", \"fjg\", \"dkg\", \"ekg\", \"fkg\", \"dlg\", \"elg\", \"flg\", \"djh\", \"ejh\", \"fjh\", \"dkh\", \"ekh\", \"fkh\", \"dlh\", \"elh\", \"flh\", \"dji\", \"eji\", \"fji\", \"dki\", \"eki\", \"fki\", \"dli\", \"eli\", \"fli\"])\n",
    "test_keypad(input, expected_output)"
   ]
  },
  {
   "cell_type": "markdown",
   "metadata": {
    "graffitiCellId": "id_9ibtd5w"
   },
   "source": [
    "<span class=\"graffiti-highlight graffiti-id_9ibtd5w-id_haj1ksk\"><i></i><button>Hide Solution</button></span>"
   ]
  },
  {
   "cell_type": "code",
   "execution_count": null,
   "metadata": {
    "graffitiCellId": "id_haj1ksk"
   },
   "outputs": [],
   "source": [
    "def keypad(num):\n",
    "    if num <= 1:\n",
    "        return [\"\"]\n",
    "    elif 1 < num <= 9:\n",
    "        return list(get_characters(num))\n",
    "\n",
    "    last_digit = num % 10\n",
    "    small_output = keypad(num//10)\n",
    "    keypad_string = get_characters(last_digit)\n",
    "    output = list()\n",
    "    for character in keypad_string:\n",
    "        for item in small_output:\n",
    "            new_item = item + character\n",
    "            output.append(new_item)\n",
    "    return output\n"
   ]
  }
 ],
 "metadata": {
  "graffiti": {
   "firstAuthorId": "10694620118",
   "id": "id_c01kx0l",
   "language": "EN"
  },
  "kernelspec": {
   "display_name": "Python 3",
   "language": "python",
   "name": "python3"
  },
  "language_info": {
   "codemirror_mode": {
    "name": "ipython",
    "version": 3
   },
   "file_extension": ".py",
   "mimetype": "text/x-python",
   "name": "python",
   "nbconvert_exporter": "python",
   "pygments_lexer": "ipython3",
   "version": "3.6.3"
  }
 },
 "nbformat": 4,
 "nbformat_minor": 2
}
